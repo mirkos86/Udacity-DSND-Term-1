{
 "cells": [
  {
   "cell_type": "markdown",
   "metadata": {},
   "source": [
    "# Project: Identify Customer Segments\n",
    "\n",
    "In this project, you will apply unsupervised learning techniques to identify segments of the population that form the core customer base for a mail-order sales company in Germany. These segments can then be used to direct marketing campaigns towards audiences that will have the highest expected rate of returns. The data that you will use has been provided by our partners at Bertelsmann Arvato Analytics, and represents a real-life data science task.\n",
    "\n",
    "This notebook will help you complete this task by providing a framework within which you will perform your analysis steps. In each step of the project, you will see some text describing the subtask that you will perform, followed by one or more code cells for you to complete your work. **Feel free to add additional code and markdown cells as you go along so that you can explore everything in precise chunks.** The code cells provided in the base template will outline only the major tasks, and will usually not be enough to cover all of the minor tasks that comprise it.\n",
    "\n",
    "It should be noted that while there will be precise guidelines on how you should handle certain tasks in the project, there will also be places where an exact specification is not provided. **There will be times in the project where you will need to make and justify your own decisions on how to treat the data.** These are places where there may not be only one way to handle the data. In real-life tasks, there may be many valid ways to approach an analysis task. One of the most important things you can do is clearly document your approach so that other scientists can understand the decisions you've made.\n",
    "\n",
    "At the end of most sections, there will be a Markdown cell labeled **Discussion**. In these cells, you will report your findings for the completed section, as well as document the decisions that you made in your approach to each subtask. **Your project will be evaluated not just on the code used to complete the tasks outlined, but also your communication about your observations and conclusions at each stage.**"
   ]
  },
  {
   "cell_type": "code",
   "execution_count": null,
   "metadata": {},
   "outputs": [],
   "source": [
    "# import libraries here; add more as necessary\n",
    "import numpy as np\n",
    "import pandas as pd\n",
    "import matplotlib.pyplot as plt\n",
    "import matplotlib.ticker as ticker\n",
    "import seaborn as sns\n",
    "\n",
    "# Here we import the preprocessing library which is necessary to preprocess categorical features\n",
    "from sklearn.impute import SimpleImputer\n",
    "from sklearn.preprocessing import StandardScaler\n",
    "from sklearn.decomposition import PCA\n",
    "from sklearn.cluster import KMeans\n",
    "# import library to handle regular expressions\n",
    "import re\n",
    "\n",
    "# magic word for producing visualizations in notebook\n",
    "%matplotlib inline\n",
    "\n",
    "'''Import note: The classroom currently uses sklearn version 0.19. If you need to use an imputer, it is available in \n",
    "sklearn.preprocessing.Imputer, instead of sklearn.impute as in newer versions of sklearn.'''"
   ]
  },
  {
   "cell_type": "markdown",
   "metadata": {},
   "source": [
    "### Step 0: Load the Data\n",
    "\n",
    "There are four files associated with this project (not including this one):\n",
    "\n",
    "- `Udacity_AZDIAS_Subset.csv`: Demographics data for the general population of Germany; 891211 persons (rows) x 85 features (columns).\n",
    "- `Udacity_CUSTOMERS_Subset.csv`: Demographics data for customers of a mail-order company; 191652 persons (rows) x 85 features (columns).\n",
    "- `Data_Dictionary.md`: Detailed information file about the features in the provided datasets.\n",
    "- `AZDIAS_Feature_Summary.csv`: Summary of feature attributes for demographics data; 85 features (rows) x 4 columns\n",
    "\n",
    "Each row of the demographics files represents a single person, but also includes information outside of individuals, including information about their household, building, and neighborhood. You will use this information to cluster the general population into groups with similar demographic properties. Then, you will see how the people in the customers dataset fit into those created clusters. The hope here is that certain clusters are over-represented in the customers data, as compared to the general population; those over-represented clusters will be assumed to be part of the core userbase. This information can then be used for further applications, such as targeting for a marketing campaign.\n",
    "\n",
    "To start off with, load in the demographics data for the general population into a pandas DataFrame, and do the same for the feature attributes summary. Note for all of the `.csv` data files in this project: they're semicolon (`;`) delimited, so you'll need an additional argument in your [`read_csv()`](https://pandas.pydata.org/pandas-docs/stable/generated/pandas.read_csv.html) call to read in the data properly. Also, considering the size of the main dataset, it may take some time for it to load completely.\n",
    "\n",
    "Once the dataset is loaded, it's recommended that you take a little bit of time just browsing the general structure of the dataset and feature summary file. You'll be getting deep into the innards of the cleaning in the first major step of the project, so gaining some general familiarity can help you get your bearings."
   ]
  },
  {
   "cell_type": "code",
   "execution_count": null,
   "metadata": {},
   "outputs": [],
   "source": [
    "# Load in the general demographics data.\n",
    "azdias = pd.read_csv('Udacity_AZDIAS_Subset.csv', sep=';')\n",
    "# Load in the feature summary file.\n",
    "feat_info = pd.read_csv('AZDIAS_Feature_Summary.csv', sep=';', error_bad_lines=False)"
   ]
  },
  {
   "cell_type": "code",
   "execution_count": null,
   "metadata": {},
   "outputs": [],
   "source": [
    "azdias"
   ]
  },
  {
   "cell_type": "code",
   "execution_count": null,
   "metadata": {
    "scrolled": true
   },
   "outputs": [],
   "source": [
    "# Check the structure of the data after it's loaded (e.g. print the number of\n",
    "# rows and columns, print the first few rows).\n",
    "azdias.describe()"
   ]
  },
  {
   "cell_type": "markdown",
   "metadata": {},
   "source": [
    "> **Tip**: Add additional cells to keep everything in reasonably-sized chunks! Keyboard shortcut `esc --> a` (press escape to enter command mode, then press the 'A' key) adds a new cell before the active cell, and `esc --> b` adds a new cell after the active cell. If you need to convert an active cell to a markdown cell, use `esc --> m` and to convert to a code cell, use `esc --> y`. \n",
    "\n",
    "## Step 1: Preprocessing\n",
    "\n",
    "### Step 1.1: Assess Missing Data\n",
    "\n",
    "The feature summary file contains a summary of properties for each demographics data column. You will use this file to help you make cleaning decisions during this stage of the project. First of all, you should assess the demographics data in terms of missing data. Pay attention to the following points as you perform your analysis, and take notes on what you observe. Make sure that you fill in the **Discussion** cell with your findings and decisions at the end of each step that has one!\n",
    "\n",
    "#### Step 1.1.1: Convert Missing Value Codes to NaNs\n",
    "The fourth column of the feature attributes summary (loaded in above as `feat_info`) documents the codes from the data dictionary that indicate missing or unknown data. While the file encodes this as a list (e.g. `[-1,0]`), this will get read in as a string object. You'll need to do a little bit of parsing to make use of it to identify and clean the data. Convert data that matches a 'missing' or 'unknown' value code into a numpy NaN value. You might want to see how much data takes on a 'missing' or 'unknown' code, and how much data is naturally missing, as a point of interest.\n",
    "\n",
    "**As one more reminder, you are encouraged to add additional cells to break up your analysis into manageable chunks.**"
   ]
  },
  {
   "cell_type": "code",
   "execution_count": null,
   "metadata": {},
   "outputs": [],
   "source": [
    "feat_info"
   ]
  },
  {
   "cell_type": "code",
   "execution_count": null,
   "metadata": {},
   "outputs": [],
   "source": [
    "# Identify missing or unknown data values and convert them to NaNs.\n",
    "features=np.array(feat_info['attribute'])"
   ]
  },
  {
   "cell_type": "code",
   "execution_count": null,
   "metadata": {
    "scrolled": true
   },
   "outputs": [],
   "source": [
    "# I should first identify all the possible encodings which mean 'missing or unknown data' \n",
    "# according to the dictionary,then parse them\n",
    "miss_unn=feat_info.missing_or_unknown.unique()\n",
    "print(miss_unn)"
   ]
  },
  {
   "cell_type": "code",
   "execution_count": null,
   "metadata": {},
   "outputs": [],
   "source": [
    "# Here I loop over the features and the various possible symbols identifying missing values;\n",
    "# if I find that the string expression in the 'missing_or_unknown' column \n",
    "# in the feature summary table contains one or more of the strings '0','1','9','X','XX', \n",
    "# I replace the corresponding entries with NaN; in the end, I do it for the string '[]' \n",
    "\n",
    "for f in np.array(azdias.columns):\n",
    "    for miss in [0,-1,9,'X','XX']:\n",
    "        if str(miss) in feat_info[feat_info['attribute']==f]['missing_or_unknown'].values[0]:\n",
    "            azdias[f].replace(miss,np.nan,inplace=True)\n",
    "            \n",
    "azdias.replace('[]',np.nan,inplace=True)"
   ]
  },
  {
   "cell_type": "markdown",
   "metadata": {},
   "source": [
    "#### Step 1.1.2: Assess Missing Data in Each Column\n",
    "\n",
    "How much missing data is present in each column? There are a few columns that are outliers in terms of the proportion of values that are missing. You will want to use matplotlib's [`hist()`](https://matplotlib.org/api/_as_gen/matplotlib.pyplot.hist.html) function to visualize the distribution of missing value counts to find these columns. Identify and document these columns. While some of these columns might have justifications for keeping or re-encoding the data, for this project you should just remove them from the dataframe. (Feel free to make remarks about these outlier columns in the discussion, however!)\n",
    "\n",
    "For the remaining features, are there any patterns in which columns have, or share, missing data?"
   ]
  },
  {
   "cell_type": "code",
   "execution_count": null,
   "metadata": {},
   "outputs": [],
   "source": [
    "# Perform an assessment of how much missing data there is in each column of the dataset.\n",
    "miss_percent_col=[round(azdias.iloc[:,[col]].isna().sum().values[0]/azdias.shape[0],2) for col in range(azdias.shape[1])];\n",
    "plt.hist(miss_percent_col,bins=20,rwidth=0.85);"
   ]
  },
  {
   "cell_type": "markdown",
   "metadata": {},
   "source": [
    "It is now time to undertand what kind of data feature more than, say, 40% of missing entries. Presumably, these features will be correlated. So first let us identify them by establishing a threshold of 20% of missing entries."
   ]
  },
  {
   "cell_type": "code",
   "execution_count": null,
   "metadata": {
    "scrolled": true
   },
   "outputs": [],
   "source": [
    "# Perform an assessment of how much missing data there is in each column of the dataset.\n",
    "col_to_drop=[i for i in range(azdias.shape[1]) if azdias.iloc[:,[i]].isna().sum().values[0]/azdias.shape[0] > 0.2]\n",
    "print(col_to_drop)\n",
    "\n",
    "features_to_drop = [azdias.iloc[:,col_to_drop[i]].name for i in range(len(col_to_drop))]\n",
    "print(features_to_drop)"
   ]
  },
  {
   "cell_type": "code",
   "execution_count": null,
   "metadata": {},
   "outputs": [],
   "source": [
    "# Investigate patterns in the amount of missing data in each column."
   ]
  },
  {
   "cell_type": "code",
   "execution_count": null,
   "metadata": {},
   "outputs": [],
   "source": [
    "for i in range(len(features_to_drop)): \n",
    "    print((features_to_drop[i],round(azdias.iloc[:,col_to_drop[i]].isna().sum()/azdias.shape[0],2)))"
   ]
  },
  {
   "cell_type": "code",
   "execution_count": null,
   "metadata": {},
   "outputs": [],
   "source": [
    "# Remove the outlier columns from the dataset. \n",
    "# (You'll perform other data engineering tasks such as re-encoding and imputation later.)\n",
    "azdias_col_dropped = azdias.drop(columns=features_to_drop)"
   ]
  },
  {
   "cell_type": "markdown",
   "metadata": {},
   "source": [
    "Discussion 1.1.2: Assess Missing Data in Each Column\n",
    "\n",
    "First let me provide the English translation of the features removed from the dataset, \n",
    "which is available from the '.md' data dictionary.\n",
    "\n",
    "- Ager type \n",
    "- Birth  Year\n",
    "- Academic Title Flag \n",
    "- Head of household birth date\n",
    "- Consumer pattern in past 12 months\n",
    "- Most common building type within the microcell\n",
    "\n",
    "It seems to me that it is pretty reasonable that such personal or qualitative data should be among the most defective within the dataset, because these are informations which are presumably hard to obtain, for a private company. \n",
    "Some of them may be searched for in census results, like the birth year. Though I am not privy to German laws on privacy, I suspect that a private company would have a hard time accessing such census results.\n",
    "\n",
    "It is likely that these data have been obtained collecting information in 3 basic ways (that I can think of at least):\n",
    "\n",
    "0. Well, information about academic titles hasn't bee collected at all.\n",
    "\n",
    "\n",
    "1. Directly from customers over the years, for instance by asking them to fill some necessary forms to initiate the commercial relationship; beside basic and necessary information, the company may have asked some non mandatory questions like birth year which have helped it identify features not directly related to the customer, like the birth date of the head of the household. The voluntary nature of one's birth year or the head-of-household's birth date disclosure make the data mining process harder, explaining why they are a bit defective. Beside, the fact that the amounts of missing data on these two features is comparable, is an indication that a persona inclined to disclose one is roughly equally inclined to disclose the other. \n",
    "\n",
    "\n",
    "2. Following up on this, the company may have put some data mining effort analysing and cross linking and checking data on neighborhoods or data on purchase patterns from the company itself to extract more qualitative features such as type of ager and consumer patterns in the past 12 months. The fact that the amount of missing data for these two features is comparable suggests that there is a correlation between them; secondly, they are also harder to mine, since more than 65% of entries is missing from both; finally, ager type is the more defective one, presumably because purchase patterns are often not informative enough, either because customers seldom purchase something or because the purchased goods are not distinctive enough. \n",
    "\n",
    "\n",
    "3. Availability of information about the most common building type in the microcell is practically a coin toss, with roughly 50% of data being available. Since, however, for all other features about microcells more than 80% of data is collected, this is likely a problem of averaging and time-dependence: it is often possible to qualify the most common types of family homes in the neighborhood in terms of number of inhabitants, but selecting the most common one can be hard for a few reasons: defining the precise borders of such a microcell (averaging) and being sure that people haven't left their families to live elsewhere (or are going to do so soon) and that newborns are unlikely to arrive/are arriving soon (time dependence). In such cases, the data engineer's conservative choice to declare uncertainty in the form of missing data may be less biasing than selecting a feebly standing option.\n"
   ]
  },
  {
   "source": [
    "To address the last question above: to know if columns share missing data, it is appropriate to look at patterns of missing data in rows, which is what we are going to do next. "
   ],
   "cell_type": "markdown",
   "metadata": {}
  },
  {
   "cell_type": "markdown",
   "metadata": {},
   "source": [
    "#### Step 1.1.3: Assess Missing Data in Each Row\n",
    "\n",
    "Now, you'll perform a similar assessment for the rows of the dataset. How much data is missing in each row? As with the columns, you should see some groups of points that have a very different numbers of missing values. Divide the data into two subsets: one for data points that are above some threshold for missing values, and a second subset for points below that threshold.\n",
    "\n",
    "In order to know what to do with the outlier rows, we should see if the distribution of data values on columns that are not missing data (or are missing very little data) are similar or different between the two groups. Select at least five of these columns and compare the distribution of values.\n",
    "- You can use seaborn's [`countplot()`](https://seaborn.pydata.org/generated/seaborn.countplot.html) function to create a bar chart of code frequencies and matplotlib's [`subplot()`](https://matplotlib.org/api/_as_gen/matplotlib.pyplot.subplot.html) function to put bar charts for the two subplots side by side.\n",
    "- To reduce repeated code, you might want to write a function that can perform this comparison, taking as one of its arguments a column to be compared.\n",
    "\n",
    "Depending on what you observe in your comparison, this will have implications on how you approach your conclusions later in the analysis. If the distributions of non-missing features look similar between the data with many missing values and the data with few or no missing values, then we could argue that simply dropping those points from the analysis won't present a major issue. On the other hand, if the data with many missing values looks very different from the data with few or no missing values, then we should make a note on those data as special. We'll revisit these data later on. **Either way, you should continue your analysis for now using just the subset of the data with few or no missing values.**"
   ]
  },
  {
   "cell_type": "code",
   "execution_count": null,
   "metadata": {},
   "outputs": [],
   "source": [
    "# How much data is missing in each row of the dataset?\n",
    "\n",
    "# I can run exactly the same analyis carried out for the dataset columns \n",
    "miss_percent_row=[azdias.iloc[[row],:].isna().sum(axis=1).values[0]/azdias.shape[1] for row in range(azdias.shape[0])];"
   ]
  },
  {
   "cell_type": "code",
   "execution_count": null,
   "metadata": {},
   "outputs": [],
   "source": [
    "plt.hist(miss_percent_row,bins=20,rwidth=0.85,label=str);"
   ]
  },
  {
   "cell_type": "code",
   "execution_count": null,
   "metadata": {
    "tags": []
   },
   "outputs": [],
   "source": [
    "# Here I count the rows having more than 30% of missing entries\n",
    "rows_to_drop=[i for i in range(azdias.shape[0]) if miss_percent_row[i] > 0.3]\n",
    "print(len(rows_to_drop))"
   ]
  },
  {
   "cell_type": "code",
   "execution_count": null,
   "metadata": {},
   "outputs": [],
   "source": [
    "# Write code to divide the data into two subsets based on the number of missing values in each row.\n",
    "\n",
    "# ANSWER 1\n",
    "# First I should drop the rows I decided to omit from the database where I have already deleted the 6 columns with less\n",
    "# than 20% of their entries (see section above) \n",
    "azdias_all_dropped = azdias_col_dropped.drop(index=rows_to_drop)\n",
    "azdias_all_dropped.reset_index(drop=True,inplace=True)"
   ]
  },
  {
   "cell_type": "code",
   "execution_count": null,
   "metadata": {},
   "outputs": [],
   "source": [
    "# ANSWER 2 \n",
    "# Second, I should build a database made just of the rows which have been taken away\n",
    "# I will take these rows from the azdias_col_dropped database, so that in both final \n",
    "# databases with less than 891221 rows\n",
    "# I will have the same number of columns; in particular, the longer one will be the database # to be used for good.\n",
    "azdias_rows_to_drop = azdias_col_dropped.iloc[rows_to_drop,:]"
   ]
  },
  {
   "cell_type": "code",
   "execution_count": null,
   "metadata": {},
   "outputs": [],
   "source": [
    "azdias_col_dropped.shape[0]"
   ]
  },
  {
   "cell_type": "code",
   "execution_count": null,
   "metadata": {},
   "outputs": [],
   "source": [
    "# Compare the distribution of values for at least five columns where there are\n",
    "# no or few missing values, between the two subsets.\n",
    "\n",
    "# ANSWER 3:\n",
    "# Since I have already dropped from both datasets the columns with >20% of missing entries,\n",
    "# I can pick the first 5 columns of both of them and make the comparison\n",
    "# To this end, let me write down a function which can make such a comparison after passing it the name of the column\n",
    "# But first let me check that, for instance, the first columns 3-7 of the dataset qualify (they do)\n",
    "# If we choose these, which are all categorical, we can use the .countplot() method to plot them all\n",
    "\n",
    "for i in range(3,8):\n",
    "    print(azdias_all_dropped.iloc[:,[i]].columns.values.item(),azdias_all_dropped.iloc[:,[i]].isna().sum().values[0]/azdias_col_dropped.shape[0])"
   ]
  },
  {
   "cell_type": "code",
   "execution_count": null,
   "metadata": {},
   "outputs": [],
   "source": [
    "def compare_distributions(column,dataset1,dataset2,datat1_desc,datat2_desc):\n",
    "    plt.figure(figsize=[18,5])\n",
    "    plt.subplot(1,2,1)\n",
    "    plt.title(datat1_desc)\n",
    "    sns.histplot(x=column, data=dataset1, stat='probability', discrete=True);\n",
    "    \n",
    "    plt.subplot(1,2,2)\n",
    "    plt.title(datat2_desc)\n",
    "    sns.histplot(x=column, data=dataset2, stat='probability', discrete=True);\n",
    "    \n",
    "    plt.subplots_adjust(wspace=0.5)\n",
    "    plt.show()"
   ]
  },
  {
   "source": [
    "With the function above, we can run a for loop over -for instance- all the ordinal variables in the dataset to gauge how many of them feature different distributions of data in the two row sets."
   ],
   "cell_type": "markdown",
   "metadata": {}
  },
  {
   "cell_type": "code",
   "execution_count": null,
   "metadata": {},
   "outputs": [],
   "source": [
    "# ORDINAL VALUES\n",
    "\n",
    "for i in range(79):\n",
    "    if feat_info[feat_info['attribute']==azdias_all_dropped.iloc[:,[i]].columns.values.item()].type.item()=='ordinal':\n",
    "        compare_distributions(azdias_all_dropped.iloc[:,[i]].columns.values.item(),azdias_all_dropped,azdias_rows_to_drop,'lighter_dataset','purged_rows')"
   ]
  },
  {
   "cell_type": "markdown",
   "metadata": {},
   "source": [
    "#### Discussion 1.1.3: Assess Missing Data in Each Row\n",
    "\n",
    "There are definitely variables for which the data distribution among the two sets of rows is quite similar.\n",
    "But there are others where there is a blatant difference between the data in the rows we have kept and those in the rows we have omitted. The first ones which strike one's attention are financial situation indicators, starting with the second ordinal variables.\n",
    "\n",
    "More specifically, we can see from the pair of histograms concerning the financial incospicousness of individuals in the dataset, that rows containing many missing data distinctively refer to individuals with significantly incospicuous financial status. \n",
    "Likely, these may not be the most interesting customers to focus a company's attention on.  \n"
   ]
  },
  {
   "cell_type": "markdown",
   "metadata": {},
   "source": [
    "### Step 1.2: Select and Re-Encode Features\n",
    "\n",
    "Checking for missing data isn't the only way in which you can prepare a dataset for analysis. Since the unsupervised learning techniques to be used will only work on data that is encoded numerically, you need to make a few encoding changes or additional assumptions to be able to make progress. In addition, while almost all of the values in the dataset are encoded using numbers, not all of them represent numeric values. Check the third column of the feature summary (`feat_info`) for a summary of types of measurement.\n",
    "- For numeric and interval data, these features can be kept without changes.\n",
    "- Most of the variables in the dataset are ordinal in nature. While ordinal values may technically be non-linear in spacing, make the simplifying assumption that the ordinal variables can be treated as being interval in nature (that is, kept without any changes).\n",
    "- Special handling may be necessary for the remaining two variable types: categorical, and 'mixed'.\n",
    "\n",
    "In the first two parts of this sub-step, you will perform an investigation of the categorical and mixed-type features and make a decision on each of them, whether you will keep, drop, or re-encode each. Then, in the last part, you will create a new data frame with only the selected and engineered columns.\n",
    "\n",
    "Data wrangling is often the trickiest part of the data analysis process, and there's a lot of it to be done here. But stick with it: once you're done with this step, you'll be ready to get to the machine learning parts of the project!"
   ]
  },
  {
   "cell_type": "code",
   "execution_count": null,
   "metadata": {},
   "outputs": [],
   "source": [
    "feat_info"
   ]
  },
  {
   "cell_type": "code",
   "execution_count": null,
   "metadata": {},
   "outputs": [],
   "source": [
    "# I will first drop from feat_info the attributes that have been dropped from azdias\n",
    "feat_info_all_dropped = feat_info.drop(index=col_to_drop)"
   ]
  },
  {
   "cell_type": "code",
   "execution_count": null,
   "metadata": {},
   "outputs": [],
   "source": [
    "# How many features are there of each data type ?\n",
    "feat_info_all_dropped['type'].value_counts()"
   ]
  },
  {
   "cell_type": "markdown",
   "metadata": {},
   "source": [
    "#### Step 1.2.1: Re-Encode Categorical Features\n",
    "\n",
    "For categorical data, you would ordinarily need to encode the levels as dummy variables. Depending on the number of categories, perform one of the following:\n",
    "- For binary (two-level) categoricals that take numeric values, you can keep them without needing to do anything.\n",
    "- There is one binary variable that takes on non-numeric values. For this one, you need to re-encode the values as numbers or create a dummy variable.\n",
    "- For multi-level categoricals (three or more values), you can choose to encode the values using multiple dummy variables (e.g. via [OneHotEncoder](http://scikit-learn.org/stable/modules/generated/sklearn.preprocessing.OneHotEncoder.html)), or (to keep things straightforward) just drop them from the analysis. As always, document your choices in the Discussion section."
   ]
  },
  {
   "cell_type": "code",
   "execution_count": null,
   "metadata": {},
   "outputs": [],
   "source": [
    "# Assess categorical variables: which are binary, which are multi-level, and\n",
    "# which one needs to be re-encoded?\n",
    "\n",
    "# The following shows the requested information:\n",
    "# 'GEBAEUDETYP' is the binary variable which takes non numeric values\n",
    "\n",
    "cat_idx=list(feat_info_all_dropped[feat_info_all_dropped['type']=='categorical']['attribute'].index)\n",
    "\n",
    "for i in cat_idx:\n",
    "    print(azdias_all_dropped[feat_info_all_dropped[feat_info_all_dropped['type']=='categorical']['attribute'][i]].value_counts())"
   ]
  },
  {
   "cell_type": "code",
   "execution_count": null,
   "metadata": {},
   "outputs": [],
   "source": [
    "# Here we create the lists by identifying the features which have more than 2 values\n",
    "# and signing them up for encoding. \n",
    "# At the same time we identify those with 2 values which are not numerical and, therefore,\n",
    "# need encoding as well. A more general code can be more naturally \n",
    "# incorporated into the general data-cleaning function requested above. \n",
    "\n",
    "need_encod=[];\n",
    "no_need_encod=[];\n",
    "\n",
    "for i in cat_idx:\n",
    "    if len(azdias_all_dropped[feat_info_all_dropped[feat_info_all_dropped['type']=='categorical']['attribute'][i]].value_counts()) >2:\n",
    "        need_encod.append(i)\n",
    "    elif len(azdias_all_dropped[feat_info_all_dropped[feat_info_all_dropped['type']=='categorical']['attribute'][i]].value_counts()) == 2 and azdias_all_dropped[feat_info_all_dropped[feat_info_all_dropped['type']=='categorical']['attribute'][i]].dtype not in ['int64','float64']:\n",
    "        need_encod.append(i)\n",
    "    else: \n",
    "        no_need_encod.append(i)\n",
    "\n",
    "# So the features with their index in the 'need_encod' list are up for OneHotEnconding"
   ]
  },
  {
   "cell_type": "code",
   "execution_count": null,
   "metadata": {},
   "outputs": [],
   "source": [
    "# Here is the list of feature labels to be encoded\n",
    "to_be_encoded=list(feat_info_all_dropped[feat_info_all_dropped['type']=='categorical']['attribute'].drop(index=no_need_encod))"
   ]
  },
  {
   "cell_type": "code",
   "execution_count": null,
   "metadata": {},
   "outputs": [],
   "source": [
    "# Here we actually encode our features\n",
    "azdias_encoded = pd.get_dummies(azdias_all_dropped,columns=to_be_encoded)"
   ]
  },
  {
   "cell_type": "markdown",
   "metadata": {},
   "source": [
    "#### Discussion 1.2.1: Re-Encode Categorical Features\n",
    "\n",
    "So far, what I have decided to do has been to keep all categorical features. \n",
    "I have decided built a general-purpose routine which can be transferred right away \n",
    "to the data-cleaning function requested below. \n",
    "\n",
    "The data engineering steps performed so far have consisted in \n",
    "\n",
    "1. identifying the categorical variables\n",
    "\n",
    "2. determining which variables need re-econding, either because they are not binary or because,\n",
    "despite being binary, they are not numerical in nature;\n",
    "\n",
    "3. using pd.get_dummies to one-hot-encode these variables and obtain the new dataset."
   ]
  },
  {
   "cell_type": "markdown",
   "metadata": {},
   "source": [
    "#### Step 1.2.2: Engineer Mixed-Type Features\n",
    "\n",
    "There are a handful of features that are marked as \"mixed\" in the feature summary that require special treatment in order to be included in the analysis. There are two in particular that deserve attention; the handling of the rest are up to your own choices:\n",
    "- \"PRAEGENDE_JUGENDJAHRE\" combines information on three dimensions: generation by decade, movement (mainstream vs. avantgarde), and nation (east vs. west). While there aren't enough levels to disentangle east from west, you should create two new variables to capture the other two dimensions: an interval-type variable for decade, and a binary variable for movement.\n",
    "- \"CAMEO_INTL_2015\" combines information on two axes: wealth and life stage. Break up the two-digit codes by their 'tens'-place and 'ones'-place digits into two new ordinal variables (which, for the purposes of this project, is equivalent to just treating them as their raw numeric values).\n",
    "- If you decide to keep or engineer new features around the other mixed-type features, make sure you note your steps in the Discussion section.\n",
    "\n",
    "Be sure to check `Data_Dictionary.md` for the details needed to finish these tasks."
   ]
  },
  {
   "cell_type": "code",
   "execution_count": null,
   "metadata": {},
   "outputs": [],
   "source": [
    "# Investigate \"PRAEGENDE_JUGENDJAHRE\" and engineer two new variables."
   ]
  },
  {
   "cell_type": "code",
   "execution_count": null,
   "metadata": {},
   "outputs": [],
   "source": [
    "# In order to create the binary variable out of 'PRAEGENDE_JUGENDJAHRE', we first set up\n",
    "# lists, looking at the data dictionary, of the values corresponding to Mainstream or \n",
    "# Avantgarde\n",
    "mainstream_entries=[1,3,5,8,10,12,14]\n",
    "avantgarde_entries=[2,4,6,7,9,11,13,15]\n",
    "# Next, we set up a list for the decades\n",
    "decade_entries=[40,40,50,50,60,60,60,70,70,80,80,80,80,90,90]"
   ]
  },
  {
   "cell_type": "code",
   "execution_count": null,
   "metadata": {},
   "outputs": [],
   "source": [
    "# Youth decade function\n",
    "def youth(obj,list):\n",
    "    if pd.isnull(obj) == False:\n",
    "        return list[int(obj)-1]"
   ]
  },
  {
   "cell_type": "code",
   "execution_count": null,
   "metadata": {},
   "outputs": [],
   "source": [
    "# Engineering the person's youth decade \n",
    "# (German translation courtesy of Google Translate)\n",
    "azdias_encoded['JUGENDEKKADE']=azdias_encoded.PRAEGENDE_JUGENDJAHRE.apply(youth,args=(decade_entries,))"
   ]
  },
  {
   "cell_type": "code",
   "execution_count": null,
   "metadata": {},
   "outputs": [],
   "source": [
    "def movement(obj,mov_1,mov_2):\n",
    "    if pd.isnull(obj) == False:\n",
    "        if int(obj) in mov_1:\n",
    "            return 0\n",
    "        elif int(obj) in mov_2:\n",
    "            return 1"
   ]
  },
  {
   "cell_type": "code",
   "execution_count": null,
   "metadata": {},
   "outputs": [],
   "source": [
    "# Engineering the person's ideological movement carachterising her youth \n",
    "# (German translation courtesy of Google Translate)\n",
    "azdias_encoded['BEWEGUND']=azdias_encoded.PRAEGENDE_JUGENDJAHRE.apply(movement,args=(mainstream_entries,avantgarde_entries))"
   ]
  },
  {
   "cell_type": "code",
   "execution_count": null,
   "metadata": {},
   "outputs": [],
   "source": [
    "# Investigate \"CAMEO_INTL_2015\" and engineer two new variables\n",
    "\n",
    "# This is more immediate, it just boils down to separating decimal places\n",
    "# Function to isolate the wanted decimal place and turn it into a number\n",
    "def int_split(string,i):\n",
    "    if pd.isnull(string)==False: \n",
    "        return string[i]\n",
    "\n",
    "# German translation of wealth level and family structure courtesy of Google Translate \n",
    "azdias_encoded['REICHTUM']=azdias_encoded.CAMEO_INTL_2015.apply(int_split,args=(0,))\n",
    "azdias_encoded['FAMILIENSTRUKTUR']=azdias_encoded.CAMEO_INTL_2015.apply(int_split,args=(1,))"
   ]
  },
  {
   "cell_type": "code",
   "execution_count": null,
   "metadata": {},
   "outputs": [],
   "source": [
    "feat_info_all_dropped[feat_info_all_dropped['type']=='mixed']"
   ]
  },
  {
   "source": [
    "Now we must turn our attention to the remaining mixed type variables which are still left\n",
    "and whose information we mean to keep (see section below for details).  \n",
    "We start with WOHNLAGE, which stands for neighborhood quality."
   ],
   "cell_type": "markdown",
   "metadata": {}
  },
  {
   "cell_type": "code",
   "execution_count": null,
   "metadata": {},
   "outputs": [],
   "source": [
    "# We have to engineer a new variable which flags the neighborhood as rural or not (1,2 vs 0)\n",
    "# and distinguishes newer (2) from older houses (1) \n",
    "# Its value is NaN if the record was not taken\n",
    "\n",
    "def rural_var(obj,list_1,list_2,list_3,list_4):\n",
    "    if pd.isnull(obj) == False:\n",
    "        if obj in list_1:\n",
    "            return np.nan\n",
    "        elif obj in list_2:\n",
    "            return 0\n",
    "        elif obj in list_3:\n",
    "            return 1\n",
    "        elif obj in list_4:\n",
    "            return 2\n",
    "\n",
    "azdias_encoded['LÄNDLICHES_GEBIET']=azdias_encoded.WOHNLAGE.apply(rural_var,args=([0],[1,2,3,4,5],[7],[8]))"
   ]
  },
  {
   "cell_type": "code",
   "execution_count": null,
   "metadata": {},
   "outputs": [],
   "source": [
    "# And this is the second new variable, which is NaN if the quality of the home is not measured\n",
    "# or if the latter is in a rural area, otherwise it keeps the 5 ordinal values for the urban\n",
    "# classification\n",
    "\n",
    "def neigh_qual(obj,list_1,list_2):\n",
    "    if obj in list_1:\n",
    "        return obj\n",
    "    elif obj in list_2:\n",
    "        return np.nan\n",
    "\n",
    "azdias_encoded['NACHBARSCHAFTSQUALITÄT']=azdias_encoded.WOHNLAGE.apply(neigh_qual,args=([1,2,3,4,5],[0,7,8]))"
   ]
  },
  {
   "source": [
    "Now is the turn of PLZ8_BAUMAX, a variable which we also want to split into two new variables: a binary variable to tell business area from residential areas and the other one to distinguish the four remaining categories of residential areas based on the most common range of numbers of families living within the microcell. "
   ],
   "cell_type": "markdown",
   "metadata": {}
  },
  {
   "cell_type": "code",
   "execution_count": null,
   "metadata": {},
   "outputs": [],
   "source": [
    "azdias_encoded['PLZ8_BAUMAX'].value_counts()\n",
    "\n",
    "# This is a trivial function to create the binary variable\n",
    "def binary_business(obj,list_1,list_2):\n",
    "    if obj in list_1:\n",
    "        return 0\n",
    "    elif obj in list_2:\n",
    "        return 1\n",
    "\n",
    "azdias_encoded['GESCHÄFTSBEREICH']=azdias_encoded.PLZ8_BAUMAX.apply(binary_business,args=([1,2,3,4],[5]))\n",
    "\n",
    "# Here come another simple function to create the categorical variable \n",
    "# in the event that the area is residential\n",
    "\n",
    "def fam_num(obj,list_1,list_2):\n",
    "    if obj in list_1:\n",
    "        return obj\n",
    "    elif obj in list_2:\n",
    "        return 0\n",
    "\n",
    "azdias_encoded['GANZAHL_DER_FAMILIEN']=azdias_encoded.PLZ8_BAUMAX.apply(fam_num,args=([1,2,3,4],[5]))"
   ]
  },
  {
   "cell_type": "code",
   "execution_count": null,
   "metadata": {},
   "outputs": [],
   "source": [
    "azdias_encoded.drop(columns=['PRAEGENDE_JUGENDJAHRE','CAMEO_INTL_2015','WOHNLAGE','PLZ8_BAUMAX','LP_LEBENSPHASE_FEIN','LP_LEBENSPHASE_GROB'],inplace=True)"
   ]
  },
  {
   "cell_type": "markdown",
   "metadata": {},
   "source": [
    "#### Discussion 1.2.2: Engineer Mixed-Type Features\n",
    "\n",
    "As for 'PRAEGENDE_JUGENDJAHRE' and 'CAMEO_INTL_2015', I performed exactly the steps required in the assignment above.\n",
    "\n",
    "This leaves 4 more mixed type features among those with sufficient data, namely\n",
    "\n",
    "- LP_LEBENSPHASE_FEIN and LP_LEBENSPHASE_GROB, i.e.\n",
    "  fine grained or more coarse aggregated information about life stage and weath of people.\n",
    "  I decided to drop these two: first of all, they contain a lot of redundant information: \n",
    "  for instance, people's wealth is recorded in\n",
    "  CAMEO_INTL_2015, which we have already disentangled.\n",
    "\n",
    "- WOHNLAGE, i.e. neighborhood quality or rural flag and I decided to add a binary variable\n",
    "  which carachterizes the neighborhood ar rural or not, while keeping the remaining\n",
    "  information within another variable for city households.\n",
    "\n",
    "- PLZ8_BAUMAX, i.e. most common number of families within one building or business buildings,\n",
    "  led me to a similar choice: I created a new binary variable which charachterizes the area\n",
    "  as business area or not and kept the remaining information about the most common number of families\n",
    "  in any given building within the microcell in another variable."
   ]
  },
  {
   "cell_type": "markdown",
   "metadata": {},
   "source": [
    "#### Step 1.2.3: Complete Feature Selection\n",
    "\n",
    "In order to finish this step up, you need to make sure that your data frame now only has the columns that you want to keep. To summarize, the dataframe should consist of the following:\n",
    "- All numeric, interval, and ordinal type columns from the original dataset.\n",
    "- Binary categorical features (all numerically-encoded).\n",
    "- Engineered features from other multi-level categorical features and mixed features.\n",
    "\n",
    "Make sure that for any new columns that you have engineered, that you've excluded the original columns from the final dataset. Otherwise, their values will interfere with the analysis later on the project. For example, you should not keep \"PRAEGENDE_JUGENDJAHRE\", since its values won't be useful for the algorithm: only the values derived from it in the engineered features you created should be retained. As a reminder, your data should only be from **the subset with few or no missing values**."
   ]
  },
  {
   "source": [
    "# If there are other re-engineering tasks you need to perform, make sure you\n",
    "# take care of them here. (Dealing with missing data will come in step 2.1.)\n",
    "\n",
    "#Looking at the mixed type fetures which had survived to data dropping due to an excess of missing values,\n",
    "# we can see below that the 6 mixed type features have been takien care of above \n",
    "\n",
    "feat_info_all_dropped[feat_info_all_dropped['type']=='mixed']"
   ],
   "cell_type": "code",
   "metadata": {},
   "execution_count": null,
   "outputs": []
  },
  {
   "cell_type": "code",
   "execution_count": null,
   "metadata": {},
   "outputs": [],
   "source": [
    "# Do whatever you need to in order to ensure that the dataframe only contains\n",
    "# the columns that should be passed to the algorithm functions.\n",
    "\n",
    "# I can create a new feature summary which does not see them and includes, on the other hand,\n",
    "# the newly created variables\n",
    "feat_info_all_dropped_nomixed=feat_info_all_dropped.drop(index=[15,16,22,56,59,79])\n",
    "\n",
    "# I can create a new database with the 8 newly engineered features\n",
    "\n",
    "feat_info_new_mixed = {\n",
    "'attribute' : ['JUGENDEKKADE','BEWEGUND','REICHTUM','FAMILIENSTRUKTUR','LÄNDLICHES_GEBIET','NACHBARSCHAFTSQUALITÄT','GESCHÄFTSBEREICH','GANZAHL_DER_FAMILIEN'],\n",
    "'information_level': ['person','person','microcell_rr4','microcell_rr4','building','building','microcell_plz8','microcell_plz8'] ,\n",
    "'type': ['categorical','categorical','categorical','categorical','categorical','categorical','categorical','categorical'],\n",
    "'missing_or_unknown': [np.nan,np.nan,np.nan,np.nan,np.nan,np.nan,np.nan,np.nan]\n",
    "}\n",
    "\n",
    "new_feat = pd.DataFrame(feat_info_new_mixed)\n",
    "\n",
    "feat_info_final = feat_info_all_dropped_nomixed.append(new_feat)"
   ]
  },
  {
   "cell_type": "code",
   "execution_count": null,
   "metadata": {},
   "outputs": [],
   "source": [
    "# Now I should check that the number of features I have dropped initially plus the 6 mixed type ones I have re-engineered minus the 8 new ones is equal to the difference between the rows of feat_info and feat_info_final\n",
    "\n",
    "feat_info.shape[0]-feat_info_final.shape[0]-(len(col_to_drop)+6-8)"
   ]
  },
  {
   "cell_type": "markdown",
   "metadata": {},
   "source": [
    "### Step 1.3: Create a Cleaning Function\n",
    "\n",
    "Even though you've finished cleaning up the general population demographics data, it's important to look ahead to the future and realize that you'll need to perform the same cleaning steps on the customer demographics data. \n",
    "\n",
    "In this substep, complete the function below to execute the main feature selection, encoding, and re-engineering steps you performed above. Then, when it comes to looking at the customer data in Step 3, you can just run this function on that DataFrame to get the trimmed dataset in a single step."
   ]
  },
  {
   "cell_type": "code",
   "execution_count": null,
   "metadata": {},
   "outputs": [],
   "source": [
    "def clean_data(df,df_info):\n",
    "    \"\"\"\n",
    "    Perform feature trimming, re-encoding, and engineering for demographics data    \n",
    "    INPUT: Demographics DataFrame OUTPUT: Trimmed and cleaned demographics DataFrame\n",
    "    \"\"\"\n",
    "    # Comment 1: I am assuming I can include the feat_info metadata table as an argument to the\n",
    "    # function, unless I can just take it from outside the function itself to stick to the \n",
    "    # single argument prescriptions above...in either case, I need the info abou the 'missing or unknown'\n",
    "    # data which is stored in the feat_info\n",
    "\n",
    "    # PUT IN THE CODE HERE TO EXECUTE ALLA MAIN CLEANING STEPS:\n",
    "    # CONVERT\n",
    "    \n",
    "    for f in np.array(df.columns):\n",
    "        for miss in [0,-1,9,'X','XX']:\n",
    "            if re.search(str(miss),df_info[df_info['attribute']==f]['missing_or_unknown'].values[0]):\n",
    "                azdias[f].replace(miss,np.nan,inplace=True)\n",
    "            \n",
    "    df.replace('[]',np.nan,inplace=True)\n",
    "    # remove selected columns and rows, ...\n",
    "    col_to_drop=[i for i in range(df.shape[1]) if df.iloc[:,[i]].isna().sum().values[0]/df.shape[0] > 0.2]\n",
    "\n",
    "    features_to_drop = [df.iloc[:,col_to_drop[i]].name for i in range(len(col_to_drop))] \n",
    "    df.drop(columns=features_to_drop,inplace=True)\n",
    "\n",
    "    # Selecting with more than 30% of missing entries and dropping them\n",
    "    rows_to_drop=[i for i in range(df.shape[0]) if df.iloc[[i],:].isna().sum(axis=1).values[0]/df.shape[1] > 0.3]\n",
    "    df.drop(index=rows_to_drop)\n",
    "    df.reset_index(drop=True,inplace=True)\n",
    "    \n",
    "    # SELECT, REENCODE AND ENGINEER COLUMN VALUES.\n",
    "    # I will first drop from feat_info the attributes that have been dropped from azdias\n",
    "    df_info.drop(index=col_to_drop,inplace=True)\n",
    "    \n",
    "    # Tracking down categorical variables\n",
    "    \n",
    "    cat_idx=list(df_info[df_info['type']=='categorical']['attribute'].index)\n",
    "\n",
    "    # Distinguishing categorical feature which need encoding from those which do not\n",
    "\n",
    "    need_encod=[];\n",
    "    no_need_encod=[];\n",
    "\n",
    "    for i in cat_idx:\n",
    "        if len(df[df_info[df_info['type']=='categorical']['attribute'][i]].value_counts()) >2:\n",
    "            need_encod.append(i)\n",
    "        elif len(df[df_info[df_info['type']=='categorical']['attribute'][i]].value_counts()) == 2 and df[df_info[df_info['type']=='categorical']['attribute'][i]].dtype not in ['int64','float64']:\n",
    "            need_encod.append(i)\n",
    "        else:\n",
    "            no_need_encod.append(i)\n",
    "            \n",
    "    # So the features with their index in the 'need_encod' list are up for OneHotEnconding\n",
    "    # Here is the list of feature labels to be encoded\n",
    "    to_be_encoded=list(df_info[df_info['type']=='categorical']['attribute'].drop(index=no_need_encod))\n",
    "    # Here we actually encode our features\n",
    "    df_encoded = pd.get_dummies(df,columns=to_be_encoded)\n",
    "\n",
    "    # From now on we assume that we can take the functions \n",
    "    # defined in the encoding section of part I for granted,therefore using them freely in this function \n",
    "    \n",
    "    mixed_list=['PRAEGENDE_JUGENDJAHRE','CAMEO_INTL_2015','WOHNLAGE','PLZ8_BAUMAX','LP_LEBENSPHASE_FEIN','LP_LEBENSPHASE_GROB'];\n",
    "\n",
    "    # Engineering the person's youth decade\n",
    "    if 'PRAEGENDE_JUGENDJAHRE' in df_encoded.columns:\n",
    "        df_encoded['JUGENDEKKADE']=df_encoded.PRAEGENDE_JUGENDJAHRE.apply(youth,args=(decade_entries,))\n",
    "    else:\n",
    "        mixed_list.remove('PRAEGENDE_JUGENDJAHRE')\n",
    "    # Engineering the person's ideological movement carachterising her youth \n",
    "    if 'BEWEGUND' in df_encoded.columns:\n",
    "        df_encoded['BEWEGUND']=df_encoded.PRAEGENDE_JUGENDJAHRE.apply(movement,args=(mainstream_entries,avantgarde_entries))\n",
    "    else:\n",
    "        mixed_list.remove('BEWEGUND')\n",
    "    # German translation of wealth level and family structure courtesy of Google Translate \n",
    "    if 'CAMEO_INTL_2015' in df_encoded.columns:\n",
    "        df_encoded['REICHTUM']=df_encoded.CAMEO_INTL_2015.apply(int_split,args=(0,))\n",
    "        df_encoded['FAMILIENSTRUKTUR']=df_encoded.CAMEO_INTL_2015.apply(int_split,args=(1,))\n",
    "    else:\n",
    "        mixed_list.remove('CAMEO_INTL_2015')\n",
    "    # This is the new binary variable (German translation courtesy of Google Translate)\n",
    "    if 'WOHNLAGE' in df_encoded.columns:\n",
    "        df_encoded['LÄNDLICHES_GEBIET']=df_encoded.WOHNLAGE.apply(rural_var,args=([0],[1,2,3,4,5],[7],[8]))\n",
    "        df_encoded['NACHBARSCHAFTSQUALITÄT']=df_encoded.WOHNLAGE.apply(neigh_qual,args=([1,2,3,4,5],[0,7,8]))\n",
    "    else:\n",
    "        mixed_list.remove('WOHNLAGE')\n",
    "    if 'PLZ8_BAUMAX' in df_encoded.columns:\n",
    "        df_encoded['GESCHÄFTSBEREICH']=df_encoded.PLZ8_BAUMAX.apply(binary_business,args=([1,2,3,4],[5]))\n",
    "        df_encoded['GANZAHL_DER_FAMILIEN']=df_encoded.PLZ8_BAUMAX.apply(fam_num,args=([1,2,3,4],[5]))\n",
    "    else:\n",
    "        mixed_list.remove('PLZ8_BAUMAX')\n",
    "        \n",
    "    # Removing the other 6 mixed type variables which I must not keep any longer\n",
    "    # either because I have engineered new features (first 4) or because I have dropped them (last 2)\n",
    "    # Dropping them all in the same line of code allows me to make sure they are not left \n",
    "\n",
    "    df_cleaned=df_encoded.drop(columns=mixed_list)\n",
    "\n",
    "    # RETURN THE CLEANED DATAFRAME.\n",
    "    return df_cleaned"
   ]
  },
  {
   "cell_type": "markdown",
   "metadata": {},
   "source": [
    "## Step 2: Feature Transformation\n",
    "\n",
    "### Step 2.1: Apply Feature Scaling\n",
    "\n",
    "Before we apply dimensionality reduction techniques to the data, we need to perform feature scaling so that the principal component vectors are not influenced by the natural differences in scale for features. Starting from this part of the project, you'll want to keep an eye on the [API reference page for sklearn](http://scikit-learn.org/stable/modules/classes.html) to help you navigate to all of the classes and functions that you'll need. In this substep, you'll need to check the following:\n",
    "\n",
    "- sklearn requires that data not have missing values in order for its estimators to work properly. So, before applying the scaler to your data, make sure that you've cleaned the DataFrame of the remaining missing values. This can be as simple as just removing all data points with missing data, or applying an [Imputer](http://scikit-learn.org/stable/modules/generated/sklearn.preprocessing.Imputer.html) to replace all missing values. You might also try a more complicated procedure where you temporarily remove missing values in order to compute the scaling parameters before re-introducing those missing values and applying imputation. Think about how much missing data you have and what possible effects each approach might have on your analysis, and justify your decision in the discussion section below.\n",
    "- For the actual scaling function, a [StandardScaler](http://scikit-learn.org/stable/modules/generated/sklearn.preprocessing.StandardScaler.html) instance is suggested, scaling each feature to mean 0 and standard deviation 1.\n",
    "- For these classes, you can make use of the `.fit_transform()` method to both fit a procedure to the data as well as apply the transformation to the data at the same time. Don't forget to keep the fit sklearn objects handy, since you'll be applying them to the customer demographics data towards the end of the project."
   ]
  },
  {
   "cell_type": "code",
   "execution_count": null,
   "metadata": {},
   "outputs": [],
   "source": [
    "# If you've not yet cleaned the dataset of all NaN values, then investigate and do that now.\n",
    "\n",
    "# We see that 39% (> every third) of data features some missing values. \n",
    "# Simply removing them is definitely going to bias the estimates of some parameters,\n",
    "# so outright deleting rows with missing values is not the way\n",
    "\n",
    "azdias_encoded.shape[0], azdias_encoded.isna().any(axis=1).sum(), azdias_encoded.isna().any(axis=1).sum()/azdias_encoded.shape[0]"
   ]
  },
  {
   "cell_type": "code",
   "execution_count": null,
   "metadata": {},
   "outputs": [],
   "source": [
    "# As we can see, in the vast majority of rows there are no or very few missing values. \n",
    "azdias_encoded.isna().sum(axis=1).value_counts()"
   ]
  },
  {
   "cell_type": "code",
   "execution_count": null,
   "metadata": {},
   "outputs": [],
   "source": [
    "# Beside, in nearly all columns the percentage of missing data is negligible: \n",
    "# below one can see that columns with many missing values are rare (actually, only one has # an order of magnitude of missing values comparabe to the number of rows)\n",
    "azdias_encoded.isna().sum(axis=0).value_counts()"
   ]
  },
  {
   "source": [
    "# We conclude that using an imputer replacing missing values with most frequent ones \n",
    "# on the azdias_encoded dataset is fine\n",
    "\n",
    "# So here we go, applying the imputer to our dataframe\n",
    "imp_most=SimpleImputer(missing_values=np.nan,strategy='median')\n",
    "azdias_imputed=imp_most.fit_transform(azdias_encoded)"
   ],
   "cell_type": "code",
   "metadata": {},
   "execution_count": null,
   "outputs": []
  },
  {
   "cell_type": "code",
   "execution_count": null,
   "metadata": {},
   "outputs": [],
   "source": [
    "# Applying feature scaling to the general population demographics data.\n",
    "std_scal=StandardScaler(with_mean=True,with_std=True)\n",
    "azdias_scaled=std_scal.fit_transform(azdias_imputed)"
   ]
  },
  {
   "cell_type": "markdown",
   "metadata": {},
   "source": [
    "### Discussion 2.1: Apply Feature Scaling\n",
    "\n",
    "As explained in the comments above, what jumps to one's attention is\n",
    "\n",
    "1- there are too many rows with missing data (39%) to simply remove them before scaling.\n",
    "\n",
    "2- most of these rows have very few missing values, which means that they will affect only a few columns\n",
    "\n",
    "3- the missing data are quite sparse across columns, i.e. there is a very limited amount of columns with a significcant amount of missing data. \n",
    "\n",
    "These three considerations led us to decide to impute NaNs entries by replacing them with the most frequent value for the feature. "
   ]
  },
  {
   "cell_type": "markdown",
   "metadata": {},
   "source": [
    "### Step 2.2: Perform Dimensionality Reduction\n",
    "\n",
    "On your scaled data, you are now ready to apply dimensionality reduction techniques.\n",
    "\n",
    "- Use sklearn's [PCA](http://scikit-learn.org/stable/modules/generated/sklearn.decomposition.PCA.html) class to apply principal component analysis on the data, thus finding the vectors of maximal variance in the data. To start, you should not set any parameters (so all components are computed) or set a number of components that is at least half the number of features (so there's enough features to see the general trend in variability).\n",
    "- Check out the ratio of variance explained by each principal component as well as the cumulative variance explained. Try plotting the cumulative or sequential values using matplotlib's [`plot()`](https://matplotlib.org/api/_as_gen/matplotlib.pyplot.plot.html) function. Based on what you find, select a value for the number of transformed features you'll retain for the clustering part of the project.\n",
    "- Once you've made a choice for the number of components to keep, make sure you re-fit a PCA instance to perform the decided-on transformation."
   ]
  },
  {
   "cell_type": "code",
   "execution_count": null,
   "metadata": {},
   "outputs": [],
   "source": [
    "# First we take a slighty modified version of the function in the nanodegree pca practice\n",
    "# in order to inestigate the variance accounted for by each component individually \n",
    "# as well as the cumulative one\n",
    "\n",
    "def scree_plot(pca):\n",
    "    '''\n",
    "    Creates a scree plot associated with the principal components \n",
    "    \n",
    "    INPUT: pca - the result of instantian of PCA in scikit learn\n",
    "            \n",
    "    OUTPUT:\n",
    "            None\n",
    "    '''\n",
    "    num_components=len(pca.explained_variance_ratio_)\n",
    "    ind = np.arange(num_components)\n",
    "    vals = pca.explained_variance_ratio_\n",
    " \n",
    "    plt.figure(figsize=(20, 6))\n",
    "    ax = plt.subplot(111)\n",
    "    cumvals = np.cumsum(vals)\n",
    "    ax.bar(ind, vals)\n",
    "    ax.plot(ind, cumvals)\n",
    "    for i in range(num_components):\n",
    "        ax.annotate(r\"%s%%\" % ((str(vals[i]*100)[:4])), (ind[i]+0.2, vals[i]), va=\"bottom\", ha=\"center\", fontsize=12, rotation=90)\n",
    " \n",
    "    ax.xaxis.set_tick_params(width=0)\n",
    "    ax.yaxis.set_tick_params(width=2, length=12)\n",
    " \n",
    "    ax.set_xlabel(\"Principal Component\")\n",
    "    ax.set_ylabel(\"Variance Explained (%)\")\n",
    "    plt.title('Explained Variance Per Principal Component')\n"
   ]
  },
  {
   "cell_type": "code",
   "execution_count": null,
   "metadata": {},
   "outputs": [],
   "source": [
    "# Apply PCA to the data.\n",
    "pca100 = PCA(100)\n",
    "azdias_pca = pca100.fit_transform(azdias_scaled)\n",
    "# Investigate the variance accounted for by each principal component.\n",
    "scree_plot(pca100)"
   ]
  },
  {
   "cell_type": "code",
   "execution_count": null,
   "metadata": {},
   "outputs": [],
   "source": [
    "pca100.explained_variance_ratio_.sum()"
   ]
  },
  {
   "cell_type": "code",
   "execution_count": null,
   "metadata": {},
   "outputs": [],
   "source": [
    "# Re-apply PCA to the data while selecting for number of components to retain\n",
    "pca40 = PCA(40)\n",
    "azdias_pca40 = pca40.fit_transform(azdias_scaled)\n",
    "# Investigate the variance accounted for by each principal component.\n",
    "scree_plot(pca40)"
   ]
  },
  {
   "cell_type": "code",
   "execution_count": null,
   "metadata": {},
   "outputs": [],
   "source": [
    "pca40.explained_variance_ratio_.sum()"
   ]
  },
  {
   "cell_type": "markdown",
   "metadata": {},
   "source": [
    "### Discussion 2.2: Perform Dimensionality Reduction\n",
    "\n",
    "After performing pca with 100 features, i.e. with roughly half the inizial number of features, we ralised that, after the first 40 ones 55% of the variance is retained and, after the first 40, the overall variance is roughly 60%, whereas the incremental variance accounted for by every other one is equal to or less than 0.6%.\n",
    "\n",
    "Even though, by scouring online resources, such as Andrew Ng's YouTube videos of his Introduction to Machine Learning course, we have come to know that a good rule of thumb used in the community is to keep as many pca components as it is necessary to preserve at least 85% of the variance, we also wonder ourselves whether this rule should be completely general or rather, in the specific case we are facing and similar ones, where each individual component after the first n (with n =40 roughly) brings such little incremental knowledge about the variance, we should focus on more conspicous components, which are more likely to bring less noisy information.\n",
    "\n",
    "This is supported by a simple observation made during the course: in the PCA_MNIST exercise, an accuracy greater than 90% in handwritten digits recognition is achieved by the random forest classifier staying with just 29 principal components, which together account for just 50% of the variance: another instance where additional components bring about a lot of noise which is not decisive. \n",
    "\n",
    "Therefore, we decided to try to keep just the first 40 features, considering that, though it may be true that .     "
   ]
  },
  {
   "cell_type": "markdown",
   "metadata": {},
   "source": [
    "### Step 2.3: Interpret Principal Components\n",
    "\n",
    "Now that we have our transformed principal components, it's a nice idea to check out the weight of each variable on the first few components to see if they can be interpreted in some fashion.\n",
    "\n",
    "As a reminder, each principal component is a unit vector that points in the direction of highest variance (after accounting for the variance captured by earlier principal components). The further a weight is from zero, the more the principal component is in the direction of the corresponding feature. If two features have large weights of the same sign (both positive or both negative), then increases in one tend expect to be associated with increases in the other. To contrast, features with different signs can be expected to show a negative correlation: increases in one variable should result in a decrease in the other.\n",
    "\n",
    "- To investigate the features, you should map each weight to their corresponding feature name, then sort the features according to weight. The most interesting features for each principal component, then, will be those at the beginning and end of the sorted list. Use the data dictionary document to help you understand these most prominent features, their relationships, and what a positive or negative value on the principal component might indicate.\n",
    "- You should investigate and interpret feature associations from the first three principal components in this substep. To help facilitate this, you should write a function that you can call at any time to print the sorted list of feature weights, for the *i*-th principal component. This might come in handy in the next step of the project, when you interpret the tendencies of the discovered clusters."
   ]
  },
  {
   "cell_type": "code",
   "execution_count": null,
   "metadata": {},
   "outputs": [],
   "source": [
    "# HERE WE BUILD THE FUNCTION WHICH RETURNS THE ORDERED LIST OF FEATURES NAMES\n",
    "\n",
    "# The last dataframe containing populations data is named was azdias_encoded \n",
    "# Subsequent scaling and imputing operations turned it into an array\n",
    "# Therefore, we retrieve columns from azdias_encoded and we use the numpy.argsort \n",
    "# method do get the shuffling order allowing us to sort features in order of decreasing importance, \n",
    "# as measured by the absolute value of their weight in the principla component\n",
    "\n",
    "def sort_by_weight(vec,df):\n",
    "    \n",
    "    # Here we get the sorting order of the elements of the input vector\n",
    "    # by absolute value and in decreasing order\n",
    "    idx_order=np.argsort(np.abs(vec))[::-1]\n",
    "    # and then we build a list ordered accordingly, \n",
    "    # which the function returns as a numpy array of couples featuring \n",
    "    # the column name together with the corresponding weight\n",
    "    col_vec=df.columns\n",
    "    ordered_col=[(col_vec[i],vec[i]) for i in idx_order]\n",
    "\n",
    "    return np.array(ordered_col)"
   ]
  },
  {
   "cell_type": "code",
   "execution_count": null,
   "metadata": {},
   "outputs": [],
   "source": [
    "# Map weights for the first principal component to corresponding feature names\n",
    "# and then print the linked values, sorted by weight.\n",
    "sort_by_weight(pca40.components_[0],azdias_encoded)"
   ]
  },
  {
   "cell_type": "code",
   "execution_count": null,
   "metadata": {},
   "outputs": [],
   "source": [
    "# Map weights for the second principal component to corresponding feature names\n",
    "# and then print the linked values, sorted by weight.\n",
    "sort_by_weight(pca40.components_[1],azdias_encoded)"
   ]
  },
  {
   "cell_type": "code",
   "execution_count": null,
   "metadata": {},
   "outputs": [],
   "source": [
    "# Map weights for the third principal component to corresponding feature names\n",
    "# and then print the linked values, sorted by weight.\n",
    "sort_by_weight(pca40.components_[2],azdias_encoded)"
   ]
  },
  {
   "cell_type": "markdown",
   "metadata": {},
   "source": [
    "### Discussion 2.3: Interpret Principal Components\n",
    "\n",
    "1- Looking at the first principal component, what strikes is that the most important variable is a person's inclination to move often or not: most of the subjects in the dataset do not have such a tendency. \n",
    "The next few most important features, which point towards a person's financial situation and attitude: they clearly indicate that a big chunk of the people in the dataset are low income earners with a very high interest in saving money. \n",
    "\n",
    "2- Looking at the second principal component, we see from the first two features that a person's age is positively correlated with presence in this database; there is probably a tendency for mail older shopping to be preferred by older people, which makes sense, as younger generations are much more likely to place orders online (considering this dataset is provided by a mail order company). \n",
    "Beside, the next few variables blatantly point, in agreement with those in the first principal component, to an uncospicous financial situation and to a religious, dutiful and traditional-minded personality type, which makes a sensible pair with a financial situation where one cannot save much but has to cut down on expenses systematically by sparing on purchases. \n",
    "Last but not least, there is an expected negative correlation of being part of the dataset and internet-affinity.\n",
    "\n",
    "3- The third principal component given a more individual characterization of the typical member: male, critical and/or combative-minded, not so culture-oriented."
   ]
  },
  {
   "cell_type": "markdown",
   "metadata": {},
   "source": [
    "## Step 3: Clustering\n",
    "\n",
    "### Step 3.1: Apply Clustering to General Population\n",
    "\n",
    "You've assessed and cleaned the demographics data, then scaled and transformed them. Now, it's time to see how the data clusters in the principal components space. In this substep, you will apply k-means clustering to the dataset and use the average within-cluster distances from each point to their assigned cluster's centroid to decide on a number of clusters to keep.\n",
    "\n",
    "- Use sklearn's [KMeans](http://scikit-learn.org/stable/modules/generated/sklearn.cluster.KMeans.html#sklearn.cluster.KMeans) class to perform k-means clustering on the PCA-transformed data.\n",
    "\n",
    "- Then, compute the average difference from each point to its assigned cluster's center. **Hint**: The KMeans object's `.score()` method might be useful here, but note that in sklearn, scores tend to be defined so that larger is better. Try applying it to a small, toy dataset, or use an internet search to help your understanding.\n",
    "\n",
    "- Perform the above two steps for a number of different cluster counts. You can then see how the average distance decreases with an increasing number of clusters. However, each additional cluster provides a smaller net benefit. Use this fact to select a final number of clusters in which to group the data. **Warning**: because of the large size of the dataset, it can take a long time for the algorithm to resolve. The more clusters to fit, the longer the algorithm will take. You should test for cluster counts through at least 10 clusters to get the full picture, but you shouldn't need to test for a number of clusters above about 30.\n",
    "\n",
    "- Once you've selected a final number of clusters to use, re-fit a KMeans instance to perform the clustering operation. Make sure that you also obtain the cluster assignments for the general demographics data, since you'll be using them in the final Step 3.3."
   ]
  },
  {
   "cell_type": "code",
   "execution_count": 72,
   "metadata": {},
   "outputs": [],
   "source": [
    "# We can define a function similar to that encountered within the course\n",
    "# exercises, which computed the score of the K-means algorithm\n",
    "\n",
    "def get_kmeans_score(data, center):\n",
    "    '''\n",
    "    returns the kmeans score regarding SSE for points to centers\n",
    "    INPUT:\n",
    "        data - the dataset you want to fit kmeans to\n",
    "        center - the number of centers you want (the k value)\n",
    "    OUTPUT:\n",
    "        score - the SSE score for the kmeans model fit to the data\n",
    "    '''\n",
    "    #instantiate kmeans\n",
    "    kmeans = KMeans(n_clusters=center)\n",
    "\n",
    "    # Then fit the model to your data using the fit method\n",
    "    model = kmeans.fit(data)\n",
    "    \n",
    "    # Obtain a score related to the model fit\n",
    "    score = np.abs(model.score(data))\n",
    "    \n",
    "    return score\n",
    "\n",
    "# Now we can run k-means clustering on the data for several values\n",
    "# of the number of centroids and compute the average within-cluster distances.\n",
    "\n",
    "scores = []\n",
    "centers = list(range(1,40))\n",
    "\n",
    "for center in centers:\n",
    "    scores.append(get_kmeans_score(azdias_pca40, center))"
   ]
  },
  {
   "cell_type": "code",
   "execution_count": 73,
   "metadata": {},
   "outputs": [
    {
     "output_type": "display_data",
     "data": {
      "text/plain": "<Figure size 432x288 with 1 Axes>",
      "image/svg+xml": "<?xml version=\"1.0\" encoding=\"utf-8\" standalone=\"no\"?>\n<!DOCTYPE svg PUBLIC \"-//W3C//DTD SVG 1.1//EN\"\n  \"http://www.w3.org/Graphics/SVG/1.1/DTD/svg11.dtd\">\n<!-- Created with matplotlib (https://matplotlib.org/) -->\n<svg height=\"277.314375pt\" version=\"1.1\" viewBox=\"0 0 385.78125 277.314375\" width=\"385.78125pt\" xmlns=\"http://www.w3.org/2000/svg\" xmlns:xlink=\"http://www.w3.org/1999/xlink\">\n <metadata>\n  <rdf:RDF xmlns:cc=\"http://creativecommons.org/ns#\" xmlns:dc=\"http://purl.org/dc/elements/1.1/\" xmlns:rdf=\"http://www.w3.org/1999/02/22-rdf-syntax-ns#\">\n   <cc:Work>\n    <dc:type rdf:resource=\"http://purl.org/dc/dcmitype/StillImage\"/>\n    <dc:date>2021-06-08T16:12:31.818434</dc:date>\n    <dc:format>image/svg+xml</dc:format>\n    <dc:creator>\n     <cc:Agent>\n      <dc:title>Matplotlib v3.3.2, https://matplotlib.org/</dc:title>\n     </cc:Agent>\n    </dc:creator>\n   </cc:Work>\n  </rdf:RDF>\n </metadata>\n <defs>\n  <style type=\"text/css\">*{stroke-linecap:butt;stroke-linejoin:round;}</style>\n </defs>\n <g id=\"figure_1\">\n  <g id=\"patch_1\">\n   <path d=\"M 0 277.314375 \nL 385.78125 277.314375 \nL 385.78125 0 \nL 0 0 \nz\n\" style=\"fill:none;\"/>\n  </g>\n  <g id=\"axes_1\">\n   <g id=\"patch_2\">\n    <path d=\"M 43.78125 239.758125 \nL 378.58125 239.758125 \nL 378.58125 22.318125 \nL 43.78125 22.318125 \nz\n\" style=\"fill:#ffffff;\"/>\n   </g>\n   <g id=\"matplotlib.axis_1\">\n    <g id=\"xtick_1\">\n     <g id=\"line2d_1\">\n      <defs>\n       <path d=\"M 0 0 \nL 0 3.5 \n\" id=\"m80c1a5e025\" style=\"stroke:#000000;stroke-width:0.8;\"/>\n      </defs>\n      <g>\n       <use style=\"stroke:#000000;stroke-width:0.8;\" x=\"50.989862\" xlink:href=\"#m80c1a5e025\" y=\"239.758125\"/>\n      </g>\n     </g>\n     <g id=\"text_1\">\n      <!-- 0 -->\n      <g transform=\"translate(47.808612 254.356562)scale(0.1 -0.1)\">\n       <defs>\n        <path d=\"M 31.78125 66.40625 \nQ 24.171875 66.40625 20.328125 58.90625 \nQ 16.5 51.421875 16.5 36.375 \nQ 16.5 21.390625 20.328125 13.890625 \nQ 24.171875 6.390625 31.78125 6.390625 \nQ 39.453125 6.390625 43.28125 13.890625 \nQ 47.125 21.390625 47.125 36.375 \nQ 47.125 51.421875 43.28125 58.90625 \nQ 39.453125 66.40625 31.78125 66.40625 \nz\nM 31.78125 74.21875 \nQ 44.046875 74.21875 50.515625 64.515625 \nQ 56.984375 54.828125 56.984375 36.375 \nQ 56.984375 17.96875 50.515625 8.265625 \nQ 44.046875 -1.421875 31.78125 -1.421875 \nQ 19.53125 -1.421875 13.0625 8.265625 \nQ 6.59375 17.96875 6.59375 36.375 \nQ 6.59375 54.828125 13.0625 64.515625 \nQ 19.53125 74.21875 31.78125 74.21875 \nz\n\" id=\"DejaVuSans-48\"/>\n       </defs>\n       <use xlink:href=\"#DejaVuSans-48\"/>\n      </g>\n     </g>\n    </g>\n    <g id=\"xtick_2\">\n     <g id=\"line2d_2\">\n      <g>\n       <use style=\"stroke:#000000;stroke-width:0.8;\" x=\"91.037709\" xlink:href=\"#m80c1a5e025\" y=\"239.758125\"/>\n      </g>\n     </g>\n     <g id=\"text_2\">\n      <!-- 5 -->\n      <g transform=\"translate(87.856459 254.356562)scale(0.1 -0.1)\">\n       <defs>\n        <path d=\"M 10.796875 72.90625 \nL 49.515625 72.90625 \nL 49.515625 64.59375 \nL 19.828125 64.59375 \nL 19.828125 46.734375 \nQ 21.96875 47.46875 24.109375 47.828125 \nQ 26.265625 48.1875 28.421875 48.1875 \nQ 40.625 48.1875 47.75 41.5 \nQ 54.890625 34.8125 54.890625 23.390625 \nQ 54.890625 11.625 47.5625 5.09375 \nQ 40.234375 -1.421875 26.90625 -1.421875 \nQ 22.3125 -1.421875 17.546875 -0.640625 \nQ 12.796875 0.140625 7.71875 1.703125 \nL 7.71875 11.625 \nQ 12.109375 9.234375 16.796875 8.0625 \nQ 21.484375 6.890625 26.703125 6.890625 \nQ 35.15625 6.890625 40.078125 11.328125 \nQ 45.015625 15.765625 45.015625 23.390625 \nQ 45.015625 31 40.078125 35.4375 \nQ 35.15625 39.890625 26.703125 39.890625 \nQ 22.75 39.890625 18.8125 39.015625 \nQ 14.890625 38.140625 10.796875 36.28125 \nz\n\" id=\"DejaVuSans-53\"/>\n       </defs>\n       <use xlink:href=\"#DejaVuSans-53\"/>\n      </g>\n     </g>\n    </g>\n    <g id=\"xtick_3\">\n     <g id=\"line2d_3\">\n      <g>\n       <use style=\"stroke:#000000;stroke-width:0.8;\" x=\"131.085556\" xlink:href=\"#m80c1a5e025\" y=\"239.758125\"/>\n      </g>\n     </g>\n     <g id=\"text_3\">\n      <!-- 10 -->\n      <g transform=\"translate(124.723056 254.356562)scale(0.1 -0.1)\">\n       <defs>\n        <path d=\"M 12.40625 8.296875 \nL 28.515625 8.296875 \nL 28.515625 63.921875 \nL 10.984375 60.40625 \nL 10.984375 69.390625 \nL 28.421875 72.90625 \nL 38.28125 72.90625 \nL 38.28125 8.296875 \nL 54.390625 8.296875 \nL 54.390625 0 \nL 12.40625 0 \nz\n\" id=\"DejaVuSans-49\"/>\n       </defs>\n       <use xlink:href=\"#DejaVuSans-49\"/>\n       <use x=\"63.623047\" xlink:href=\"#DejaVuSans-48\"/>\n      </g>\n     </g>\n    </g>\n    <g id=\"xtick_4\">\n     <g id=\"line2d_4\">\n      <g>\n       <use style=\"stroke:#000000;stroke-width:0.8;\" x=\"171.133403\" xlink:href=\"#m80c1a5e025\" y=\"239.758125\"/>\n      </g>\n     </g>\n     <g id=\"text_4\">\n      <!-- 15 -->\n      <g transform=\"translate(164.770903 254.356562)scale(0.1 -0.1)\">\n       <use xlink:href=\"#DejaVuSans-49\"/>\n       <use x=\"63.623047\" xlink:href=\"#DejaVuSans-53\"/>\n      </g>\n     </g>\n    </g>\n    <g id=\"xtick_5\">\n     <g id=\"line2d_5\">\n      <g>\n       <use style=\"stroke:#000000;stroke-width:0.8;\" x=\"211.18125\" xlink:href=\"#m80c1a5e025\" y=\"239.758125\"/>\n      </g>\n     </g>\n     <g id=\"text_5\">\n      <!-- 20 -->\n      <g transform=\"translate(204.81875 254.356562)scale(0.1 -0.1)\">\n       <defs>\n        <path d=\"M 19.1875 8.296875 \nL 53.609375 8.296875 \nL 53.609375 0 \nL 7.328125 0 \nL 7.328125 8.296875 \nQ 12.9375 14.109375 22.625 23.890625 \nQ 32.328125 33.6875 34.8125 36.53125 \nQ 39.546875 41.84375 41.421875 45.53125 \nQ 43.3125 49.21875 43.3125 52.78125 \nQ 43.3125 58.59375 39.234375 62.25 \nQ 35.15625 65.921875 28.609375 65.921875 \nQ 23.96875 65.921875 18.8125 64.3125 \nQ 13.671875 62.703125 7.8125 59.421875 \nL 7.8125 69.390625 \nQ 13.765625 71.78125 18.9375 73 \nQ 24.125 74.21875 28.421875 74.21875 \nQ 39.75 74.21875 46.484375 68.546875 \nQ 53.21875 62.890625 53.21875 53.421875 \nQ 53.21875 48.921875 51.53125 44.890625 \nQ 49.859375 40.875 45.40625 35.40625 \nQ 44.1875 33.984375 37.640625 27.21875 \nQ 31.109375 20.453125 19.1875 8.296875 \nz\n\" id=\"DejaVuSans-50\"/>\n       </defs>\n       <use xlink:href=\"#DejaVuSans-50\"/>\n       <use x=\"63.623047\" xlink:href=\"#DejaVuSans-48\"/>\n      </g>\n     </g>\n    </g>\n    <g id=\"xtick_6\">\n     <g id=\"line2d_6\">\n      <g>\n       <use style=\"stroke:#000000;stroke-width:0.8;\" x=\"251.229097\" xlink:href=\"#m80c1a5e025\" y=\"239.758125\"/>\n      </g>\n     </g>\n     <g id=\"text_6\">\n      <!-- 25 -->\n      <g transform=\"translate(244.866597 254.356562)scale(0.1 -0.1)\">\n       <use xlink:href=\"#DejaVuSans-50\"/>\n       <use x=\"63.623047\" xlink:href=\"#DejaVuSans-53\"/>\n      </g>\n     </g>\n    </g>\n    <g id=\"xtick_7\">\n     <g id=\"line2d_7\">\n      <g>\n       <use style=\"stroke:#000000;stroke-width:0.8;\" x=\"291.276944\" xlink:href=\"#m80c1a5e025\" y=\"239.758125\"/>\n      </g>\n     </g>\n     <g id=\"text_7\">\n      <!-- 30 -->\n      <g transform=\"translate(284.914444 254.356562)scale(0.1 -0.1)\">\n       <defs>\n        <path d=\"M 40.578125 39.3125 \nQ 47.65625 37.796875 51.625 33 \nQ 55.609375 28.21875 55.609375 21.1875 \nQ 55.609375 10.40625 48.1875 4.484375 \nQ 40.765625 -1.421875 27.09375 -1.421875 \nQ 22.515625 -1.421875 17.65625 -0.515625 \nQ 12.796875 0.390625 7.625 2.203125 \nL 7.625 11.71875 \nQ 11.71875 9.328125 16.59375 8.109375 \nQ 21.484375 6.890625 26.8125 6.890625 \nQ 36.078125 6.890625 40.9375 10.546875 \nQ 45.796875 14.203125 45.796875 21.1875 \nQ 45.796875 27.640625 41.28125 31.265625 \nQ 36.765625 34.90625 28.71875 34.90625 \nL 20.21875 34.90625 \nL 20.21875 43.015625 \nL 29.109375 43.015625 \nQ 36.375 43.015625 40.234375 45.921875 \nQ 44.09375 48.828125 44.09375 54.296875 \nQ 44.09375 59.90625 40.109375 62.90625 \nQ 36.140625 65.921875 28.71875 65.921875 \nQ 24.65625 65.921875 20.015625 65.03125 \nQ 15.375 64.15625 9.8125 62.3125 \nL 9.8125 71.09375 \nQ 15.4375 72.65625 20.34375 73.4375 \nQ 25.25 74.21875 29.59375 74.21875 \nQ 40.828125 74.21875 47.359375 69.109375 \nQ 53.90625 64.015625 53.90625 55.328125 \nQ 53.90625 49.265625 50.4375 45.09375 \nQ 46.96875 40.921875 40.578125 39.3125 \nz\n\" id=\"DejaVuSans-51\"/>\n       </defs>\n       <use xlink:href=\"#DejaVuSans-51\"/>\n       <use x=\"63.623047\" xlink:href=\"#DejaVuSans-48\"/>\n      </g>\n     </g>\n    </g>\n    <g id=\"xtick_8\">\n     <g id=\"line2d_8\">\n      <g>\n       <use style=\"stroke:#000000;stroke-width:0.8;\" x=\"331.324791\" xlink:href=\"#m80c1a5e025\" y=\"239.758125\"/>\n      </g>\n     </g>\n     <g id=\"text_8\">\n      <!-- 35 -->\n      <g transform=\"translate(324.962291 254.356562)scale(0.1 -0.1)\">\n       <use xlink:href=\"#DejaVuSans-51\"/>\n       <use x=\"63.623047\" xlink:href=\"#DejaVuSans-53\"/>\n      </g>\n     </g>\n    </g>\n    <g id=\"xtick_9\">\n     <g id=\"line2d_9\">\n      <g>\n       <use style=\"stroke:#000000;stroke-width:0.8;\" x=\"371.372638\" xlink:href=\"#m80c1a5e025\" y=\"239.758125\"/>\n      </g>\n     </g>\n     <g id=\"text_9\">\n      <!-- 40 -->\n      <g transform=\"translate(365.010138 254.356562)scale(0.1 -0.1)\">\n       <defs>\n        <path d=\"M 37.796875 64.3125 \nL 12.890625 25.390625 \nL 37.796875 25.390625 \nz\nM 35.203125 72.90625 \nL 47.609375 72.90625 \nL 47.609375 25.390625 \nL 58.015625 25.390625 \nL 58.015625 17.1875 \nL 47.609375 17.1875 \nL 47.609375 0 \nL 37.796875 0 \nL 37.796875 17.1875 \nL 4.890625 17.1875 \nL 4.890625 26.703125 \nz\n\" id=\"DejaVuSans-52\"/>\n       </defs>\n       <use xlink:href=\"#DejaVuSans-52\"/>\n       <use x=\"63.623047\" xlink:href=\"#DejaVuSans-48\"/>\n      </g>\n     </g>\n    </g>\n    <g id=\"text_10\">\n     <!-- K -->\n     <g transform=\"translate(207.902344 268.034687)scale(0.1 -0.1)\">\n      <defs>\n       <path d=\"M 9.8125 72.90625 \nL 19.671875 72.90625 \nL 19.671875 42.09375 \nL 52.390625 72.90625 \nL 65.09375 72.90625 \nL 28.90625 38.921875 \nL 67.671875 0 \nL 54.6875 0 \nL 19.671875 35.109375 \nL 19.671875 0 \nL 9.8125 0 \nz\n\" id=\"DejaVuSans-75\"/>\n      </defs>\n      <use xlink:href=\"#DejaVuSans-75\"/>\n     </g>\n    </g>\n   </g>\n   <g id=\"matplotlib.axis_2\">\n    <g id=\"ytick_1\">\n     <g id=\"line2d_10\">\n      <defs>\n       <path d=\"M 0 0 \nL -3.5 0 \n\" id=\"m8f914feb47\" style=\"stroke:#000000;stroke-width:0.8;\"/>\n      </defs>\n      <g>\n       <use style=\"stroke:#000000;stroke-width:0.8;\" x=\"43.78125\" xlink:href=\"#m8f914feb47\" y=\"222.903562\"/>\n      </g>\n     </g>\n     <g id=\"text_11\">\n      <!-- 5.0 -->\n      <g transform=\"translate(20.878125 226.702781)scale(0.1 -0.1)\">\n       <defs>\n        <path d=\"M 10.6875 12.40625 \nL 21 12.40625 \nL 21 0 \nL 10.6875 0 \nz\n\" id=\"DejaVuSans-46\"/>\n       </defs>\n       <use xlink:href=\"#DejaVuSans-53\"/>\n       <use x=\"63.623047\" xlink:href=\"#DejaVuSans-46\"/>\n       <use x=\"95.410156\" xlink:href=\"#DejaVuSans-48\"/>\n      </g>\n     </g>\n    </g>\n    <g id=\"ytick_2\">\n     <g id=\"line2d_11\">\n      <g>\n       <use style=\"stroke:#000000;stroke-width:0.8;\" x=\"43.78125\" xlink:href=\"#m8f914feb47\" y=\"196.590721\"/>\n      </g>\n     </g>\n     <g id=\"text_12\">\n      <!-- 5.5 -->\n      <g transform=\"translate(20.878125 200.389939)scale(0.1 -0.1)\">\n       <use xlink:href=\"#DejaVuSans-53\"/>\n       <use x=\"63.623047\" xlink:href=\"#DejaVuSans-46\"/>\n       <use x=\"95.410156\" xlink:href=\"#DejaVuSans-53\"/>\n      </g>\n     </g>\n    </g>\n    <g id=\"ytick_3\">\n     <g id=\"line2d_12\">\n      <g>\n       <use style=\"stroke:#000000;stroke-width:0.8;\" x=\"43.78125\" xlink:href=\"#m8f914feb47\" y=\"170.277879\"/>\n      </g>\n     </g>\n     <g id=\"text_13\">\n      <!-- 6.0 -->\n      <g transform=\"translate(20.878125 174.077098)scale(0.1 -0.1)\">\n       <defs>\n        <path d=\"M 33.015625 40.375 \nQ 26.375 40.375 22.484375 35.828125 \nQ 18.609375 31.296875 18.609375 23.390625 \nQ 18.609375 15.53125 22.484375 10.953125 \nQ 26.375 6.390625 33.015625 6.390625 \nQ 39.65625 6.390625 43.53125 10.953125 \nQ 47.40625 15.53125 47.40625 23.390625 \nQ 47.40625 31.296875 43.53125 35.828125 \nQ 39.65625 40.375 33.015625 40.375 \nz\nM 52.59375 71.296875 \nL 52.59375 62.3125 \nQ 48.875 64.0625 45.09375 64.984375 \nQ 41.3125 65.921875 37.59375 65.921875 \nQ 27.828125 65.921875 22.671875 59.328125 \nQ 17.53125 52.734375 16.796875 39.40625 \nQ 19.671875 43.65625 24.015625 45.921875 \nQ 28.375 48.1875 33.59375 48.1875 \nQ 44.578125 48.1875 50.953125 41.515625 \nQ 57.328125 34.859375 57.328125 23.390625 \nQ 57.328125 12.15625 50.6875 5.359375 \nQ 44.046875 -1.421875 33.015625 -1.421875 \nQ 20.359375 -1.421875 13.671875 8.265625 \nQ 6.984375 17.96875 6.984375 36.375 \nQ 6.984375 53.65625 15.1875 63.9375 \nQ 23.390625 74.21875 37.203125 74.21875 \nQ 40.921875 74.21875 44.703125 73.484375 \nQ 48.484375 72.75 52.59375 71.296875 \nz\n\" id=\"DejaVuSans-54\"/>\n       </defs>\n       <use xlink:href=\"#DejaVuSans-54\"/>\n       <use x=\"63.623047\" xlink:href=\"#DejaVuSans-46\"/>\n       <use x=\"95.410156\" xlink:href=\"#DejaVuSans-48\"/>\n      </g>\n     </g>\n    </g>\n    <g id=\"ytick_4\">\n     <g id=\"line2d_13\">\n      <g>\n       <use style=\"stroke:#000000;stroke-width:0.8;\" x=\"43.78125\" xlink:href=\"#m8f914feb47\" y=\"143.965038\"/>\n      </g>\n     </g>\n     <g id=\"text_14\">\n      <!-- 6.5 -->\n      <g transform=\"translate(20.878125 147.764257)scale(0.1 -0.1)\">\n       <use xlink:href=\"#DejaVuSans-54\"/>\n       <use x=\"63.623047\" xlink:href=\"#DejaVuSans-46\"/>\n       <use x=\"95.410156\" xlink:href=\"#DejaVuSans-53\"/>\n      </g>\n     </g>\n    </g>\n    <g id=\"ytick_5\">\n     <g id=\"line2d_14\">\n      <g>\n       <use style=\"stroke:#000000;stroke-width:0.8;\" x=\"43.78125\" xlink:href=\"#m8f914feb47\" y=\"117.652196\"/>\n      </g>\n     </g>\n     <g id=\"text_15\">\n      <!-- 7.0 -->\n      <g transform=\"translate(20.878125 121.451415)scale(0.1 -0.1)\">\n       <defs>\n        <path d=\"M 8.203125 72.90625 \nL 55.078125 72.90625 \nL 55.078125 68.703125 \nL 28.609375 0 \nL 18.3125 0 \nL 43.21875 64.59375 \nL 8.203125 64.59375 \nz\n\" id=\"DejaVuSans-55\"/>\n       </defs>\n       <use xlink:href=\"#DejaVuSans-55\"/>\n       <use x=\"63.623047\" xlink:href=\"#DejaVuSans-46\"/>\n       <use x=\"95.410156\" xlink:href=\"#DejaVuSans-48\"/>\n      </g>\n     </g>\n    </g>\n    <g id=\"ytick_6\">\n     <g id=\"line2d_15\">\n      <g>\n       <use style=\"stroke:#000000;stroke-width:0.8;\" x=\"43.78125\" xlink:href=\"#m8f914feb47\" y=\"91.339355\"/>\n      </g>\n     </g>\n     <g id=\"text_16\">\n      <!-- 7.5 -->\n      <g transform=\"translate(20.878125 95.138574)scale(0.1 -0.1)\">\n       <use xlink:href=\"#DejaVuSans-55\"/>\n       <use x=\"63.623047\" xlink:href=\"#DejaVuSans-46\"/>\n       <use x=\"95.410156\" xlink:href=\"#DejaVuSans-53\"/>\n      </g>\n     </g>\n    </g>\n    <g id=\"ytick_7\">\n     <g id=\"line2d_16\">\n      <g>\n       <use style=\"stroke:#000000;stroke-width:0.8;\" x=\"43.78125\" xlink:href=\"#m8f914feb47\" y=\"65.026514\"/>\n      </g>\n     </g>\n     <g id=\"text_17\">\n      <!-- 8.0 -->\n      <g transform=\"translate(20.878125 68.825732)scale(0.1 -0.1)\">\n       <defs>\n        <path d=\"M 31.78125 34.625 \nQ 24.75 34.625 20.71875 30.859375 \nQ 16.703125 27.09375 16.703125 20.515625 \nQ 16.703125 13.921875 20.71875 10.15625 \nQ 24.75 6.390625 31.78125 6.390625 \nQ 38.8125 6.390625 42.859375 10.171875 \nQ 46.921875 13.96875 46.921875 20.515625 \nQ 46.921875 27.09375 42.890625 30.859375 \nQ 38.875 34.625 31.78125 34.625 \nz\nM 21.921875 38.8125 \nQ 15.578125 40.375 12.03125 44.71875 \nQ 8.5 49.078125 8.5 55.328125 \nQ 8.5 64.0625 14.71875 69.140625 \nQ 20.953125 74.21875 31.78125 74.21875 \nQ 42.671875 74.21875 48.875 69.140625 \nQ 55.078125 64.0625 55.078125 55.328125 \nQ 55.078125 49.078125 51.53125 44.71875 \nQ 48 40.375 41.703125 38.8125 \nQ 48.828125 37.15625 52.796875 32.3125 \nQ 56.78125 27.484375 56.78125 20.515625 \nQ 56.78125 9.90625 50.3125 4.234375 \nQ 43.84375 -1.421875 31.78125 -1.421875 \nQ 19.734375 -1.421875 13.25 4.234375 \nQ 6.78125 9.90625 6.78125 20.515625 \nQ 6.78125 27.484375 10.78125 32.3125 \nQ 14.796875 37.15625 21.921875 38.8125 \nz\nM 18.3125 54.390625 \nQ 18.3125 48.734375 21.84375 45.5625 \nQ 25.390625 42.390625 31.78125 42.390625 \nQ 38.140625 42.390625 41.71875 45.5625 \nQ 45.3125 48.734375 45.3125 54.390625 \nQ 45.3125 60.0625 41.71875 63.234375 \nQ 38.140625 66.40625 31.78125 66.40625 \nQ 25.390625 66.40625 21.84375 63.234375 \nQ 18.3125 60.0625 18.3125 54.390625 \nz\n\" id=\"DejaVuSans-56\"/>\n       </defs>\n       <use xlink:href=\"#DejaVuSans-56\"/>\n       <use x=\"63.623047\" xlink:href=\"#DejaVuSans-46\"/>\n       <use x=\"95.410156\" xlink:href=\"#DejaVuSans-48\"/>\n      </g>\n     </g>\n    </g>\n    <g id=\"ytick_8\">\n     <g id=\"line2d_17\">\n      <g>\n       <use style=\"stroke:#000000;stroke-width:0.8;\" x=\"43.78125\" xlink:href=\"#m8f914feb47\" y=\"38.713672\"/>\n      </g>\n     </g>\n     <g id=\"text_18\">\n      <!-- 8.5 -->\n      <g transform=\"translate(20.878125 42.512891)scale(0.1 -0.1)\">\n       <use xlink:href=\"#DejaVuSans-56\"/>\n       <use x=\"63.623047\" xlink:href=\"#DejaVuSans-46\"/>\n       <use x=\"95.410156\" xlink:href=\"#DejaVuSans-53\"/>\n      </g>\n     </g>\n    </g>\n    <g id=\"text_19\">\n     <!-- SSE -->\n     <g transform=\"translate(14.798438 140.545937)rotate(-90)scale(0.1 -0.1)\">\n      <defs>\n       <path d=\"M 53.515625 70.515625 \nL 53.515625 60.890625 \nQ 47.90625 63.578125 42.921875 64.890625 \nQ 37.9375 66.21875 33.296875 66.21875 \nQ 25.25 66.21875 20.875 63.09375 \nQ 16.5 59.96875 16.5 54.203125 \nQ 16.5 49.359375 19.40625 46.890625 \nQ 22.3125 44.4375 30.421875 42.921875 \nL 36.375 41.703125 \nQ 47.40625 39.59375 52.65625 34.296875 \nQ 57.90625 29 57.90625 20.125 \nQ 57.90625 9.515625 50.796875 4.046875 \nQ 43.703125 -1.421875 29.984375 -1.421875 \nQ 24.8125 -1.421875 18.96875 -0.25 \nQ 13.140625 0.921875 6.890625 3.21875 \nL 6.890625 13.375 \nQ 12.890625 10.015625 18.65625 8.296875 \nQ 24.421875 6.59375 29.984375 6.59375 \nQ 38.421875 6.59375 43.015625 9.90625 \nQ 47.609375 13.234375 47.609375 19.390625 \nQ 47.609375 24.75 44.3125 27.78125 \nQ 41.015625 30.8125 33.5 32.328125 \nL 27.484375 33.5 \nQ 16.453125 35.6875 11.515625 40.375 \nQ 6.59375 45.0625 6.59375 53.421875 \nQ 6.59375 63.09375 13.40625 68.65625 \nQ 20.21875 74.21875 32.171875 74.21875 \nQ 37.3125 74.21875 42.625 73.28125 \nQ 47.953125 72.359375 53.515625 70.515625 \nz\n\" id=\"DejaVuSans-83\"/>\n       <path d=\"M 9.8125 72.90625 \nL 55.90625 72.90625 \nL 55.90625 64.59375 \nL 19.671875 64.59375 \nL 19.671875 43.015625 \nL 54.390625 43.015625 \nL 54.390625 34.71875 \nL 19.671875 34.71875 \nL 19.671875 8.296875 \nL 56.78125 8.296875 \nL 56.78125 0 \nL 9.8125 0 \nz\n\" id=\"DejaVuSans-69\"/>\n      </defs>\n      <use xlink:href=\"#DejaVuSans-83\"/>\n      <use x=\"63.476562\" xlink:href=\"#DejaVuSans-83\"/>\n      <use x=\"126.953125\" xlink:href=\"#DejaVuSans-69\"/>\n     </g>\n    </g>\n    <g id=\"text_20\">\n     <!-- 1e7 -->\n     <g transform=\"translate(43.78125 19.318125)scale(0.1 -0.1)\">\n      <defs>\n       <path d=\"M 56.203125 29.59375 \nL 56.203125 25.203125 \nL 14.890625 25.203125 \nQ 15.484375 15.921875 20.484375 11.0625 \nQ 25.484375 6.203125 34.421875 6.203125 \nQ 39.59375 6.203125 44.453125 7.46875 \nQ 49.3125 8.734375 54.109375 11.28125 \nL 54.109375 2.78125 \nQ 49.265625 0.734375 44.1875 -0.34375 \nQ 39.109375 -1.421875 33.890625 -1.421875 \nQ 20.796875 -1.421875 13.15625 6.1875 \nQ 5.515625 13.8125 5.515625 26.8125 \nQ 5.515625 40.234375 12.765625 48.109375 \nQ 20.015625 56 32.328125 56 \nQ 43.359375 56 49.78125 48.890625 \nQ 56.203125 41.796875 56.203125 29.59375 \nz\nM 47.21875 32.234375 \nQ 47.125 39.59375 43.09375 43.984375 \nQ 39.0625 48.390625 32.421875 48.390625 \nQ 24.90625 48.390625 20.390625 44.140625 \nQ 15.875 39.890625 15.1875 32.171875 \nz\n\" id=\"DejaVuSans-101\"/>\n      </defs>\n      <use xlink:href=\"#DejaVuSans-49\"/>\n      <use x=\"63.623047\" xlink:href=\"#DejaVuSans-101\"/>\n      <use x=\"125.146484\" xlink:href=\"#DejaVuSans-55\"/>\n     </g>\n    </g>\n   </g>\n   <g id=\"line2d_18\">\n    <path clip-path=\"url(#pf735527f2c)\" d=\"M 58.999432 32.201761 \nL 67.009001 83.043278 \nL 75.018571 106.080772 \nL 83.02814 121.745662 \nL 91.037709 134.43883 \nL 99.047279 142.111729 \nL 107.056848 148.568825 \nL 115.066417 154.374801 \nL 123.075987 161.345433 \nL 131.085556 166.177568 \nL 139.095126 171.761251 \nL 147.104695 175.424275 \nL 155.114264 179.372486 \nL 163.123834 183.44984 \nL 171.133403 184.478665 \nL 179.142972 188.520254 \nL 187.152542 190.79159 \nL 195.162111 194.265388 \nL 203.171681 195.182528 \nL 211.18125 198.042111 \nL 219.190819 199.728886 \nL 227.200389 201.76814 \nL 235.209958 205.856787 \nL 243.219528 206.634663 \nL 251.229097 210.029978 \nL 259.238666 210.775664 \nL 267.248236 212.920354 \nL 275.257805 214.124133 \nL 283.267374 215.175501 \nL 291.276944 216.77189 \nL 299.286513 219.310245 \nL 307.296083 221.380927 \nL 315.305652 221.455639 \nL 323.315221 224.232018 \nL 331.324791 225.155473 \nL 339.33436 225.618597 \nL 347.343929 227.096869 \nL 355.353499 228.162851 \nL 363.363068 229.874489 \n\" style=\"fill:none;stroke:#0000ff;stroke-dasharray:5.55,2.4;stroke-dashoffset:0;stroke-width:1.5;\"/>\n    <defs>\n     <path d=\"M 0 3 \nC 0.795609 3 1.55874 2.683901 2.12132 2.12132 \nC 2.683901 1.55874 3 0.795609 3 0 \nC 3 -0.795609 2.683901 -1.55874 2.12132 -2.12132 \nC 1.55874 -2.683901 0.795609 -3 0 -3 \nC -0.795609 -3 -1.55874 -2.683901 -2.12132 -2.12132 \nC -2.683901 -1.55874 -3 -0.795609 -3 0 \nC -3 0.795609 -2.683901 1.55874 -2.12132 2.12132 \nC -1.55874 2.683901 -0.795609 3 0 3 \nz\n\" id=\"m07a5ca8c1f\" style=\"stroke:#0000ff;\"/>\n    </defs>\n    <g clip-path=\"url(#pf735527f2c)\">\n     <use style=\"fill:#0000ff;stroke:#0000ff;\" x=\"58.999432\" xlink:href=\"#m07a5ca8c1f\" y=\"32.201761\"/>\n     <use style=\"fill:#0000ff;stroke:#0000ff;\" x=\"67.009001\" xlink:href=\"#m07a5ca8c1f\" y=\"83.043278\"/>\n     <use style=\"fill:#0000ff;stroke:#0000ff;\" x=\"75.018571\" xlink:href=\"#m07a5ca8c1f\" y=\"106.080772\"/>\n     <use style=\"fill:#0000ff;stroke:#0000ff;\" x=\"83.02814\" xlink:href=\"#m07a5ca8c1f\" y=\"121.745662\"/>\n     <use style=\"fill:#0000ff;stroke:#0000ff;\" x=\"91.037709\" xlink:href=\"#m07a5ca8c1f\" y=\"134.43883\"/>\n     <use style=\"fill:#0000ff;stroke:#0000ff;\" x=\"99.047279\" xlink:href=\"#m07a5ca8c1f\" y=\"142.111729\"/>\n     <use style=\"fill:#0000ff;stroke:#0000ff;\" x=\"107.056848\" xlink:href=\"#m07a5ca8c1f\" y=\"148.568825\"/>\n     <use style=\"fill:#0000ff;stroke:#0000ff;\" x=\"115.066417\" xlink:href=\"#m07a5ca8c1f\" y=\"154.374801\"/>\n     <use style=\"fill:#0000ff;stroke:#0000ff;\" x=\"123.075987\" xlink:href=\"#m07a5ca8c1f\" y=\"161.345433\"/>\n     <use style=\"fill:#0000ff;stroke:#0000ff;\" x=\"131.085556\" xlink:href=\"#m07a5ca8c1f\" y=\"166.177568\"/>\n     <use style=\"fill:#0000ff;stroke:#0000ff;\" x=\"139.095126\" xlink:href=\"#m07a5ca8c1f\" y=\"171.761251\"/>\n     <use style=\"fill:#0000ff;stroke:#0000ff;\" x=\"147.104695\" xlink:href=\"#m07a5ca8c1f\" y=\"175.424275\"/>\n     <use style=\"fill:#0000ff;stroke:#0000ff;\" x=\"155.114264\" xlink:href=\"#m07a5ca8c1f\" y=\"179.372486\"/>\n     <use style=\"fill:#0000ff;stroke:#0000ff;\" x=\"163.123834\" xlink:href=\"#m07a5ca8c1f\" y=\"183.44984\"/>\n     <use style=\"fill:#0000ff;stroke:#0000ff;\" x=\"171.133403\" xlink:href=\"#m07a5ca8c1f\" y=\"184.478665\"/>\n     <use style=\"fill:#0000ff;stroke:#0000ff;\" x=\"179.142972\" xlink:href=\"#m07a5ca8c1f\" y=\"188.520254\"/>\n     <use style=\"fill:#0000ff;stroke:#0000ff;\" x=\"187.152542\" xlink:href=\"#m07a5ca8c1f\" y=\"190.79159\"/>\n     <use style=\"fill:#0000ff;stroke:#0000ff;\" x=\"195.162111\" xlink:href=\"#m07a5ca8c1f\" y=\"194.265388\"/>\n     <use style=\"fill:#0000ff;stroke:#0000ff;\" x=\"203.171681\" xlink:href=\"#m07a5ca8c1f\" y=\"195.182528\"/>\n     <use style=\"fill:#0000ff;stroke:#0000ff;\" x=\"211.18125\" xlink:href=\"#m07a5ca8c1f\" y=\"198.042111\"/>\n     <use style=\"fill:#0000ff;stroke:#0000ff;\" x=\"219.190819\" xlink:href=\"#m07a5ca8c1f\" y=\"199.728886\"/>\n     <use style=\"fill:#0000ff;stroke:#0000ff;\" x=\"227.200389\" xlink:href=\"#m07a5ca8c1f\" y=\"201.76814\"/>\n     <use style=\"fill:#0000ff;stroke:#0000ff;\" x=\"235.209958\" xlink:href=\"#m07a5ca8c1f\" y=\"205.856787\"/>\n     <use style=\"fill:#0000ff;stroke:#0000ff;\" x=\"243.219528\" xlink:href=\"#m07a5ca8c1f\" y=\"206.634663\"/>\n     <use style=\"fill:#0000ff;stroke:#0000ff;\" x=\"251.229097\" xlink:href=\"#m07a5ca8c1f\" y=\"210.029978\"/>\n     <use style=\"fill:#0000ff;stroke:#0000ff;\" x=\"259.238666\" xlink:href=\"#m07a5ca8c1f\" y=\"210.775664\"/>\n     <use style=\"fill:#0000ff;stroke:#0000ff;\" x=\"267.248236\" xlink:href=\"#m07a5ca8c1f\" y=\"212.920354\"/>\n     <use style=\"fill:#0000ff;stroke:#0000ff;\" x=\"275.257805\" xlink:href=\"#m07a5ca8c1f\" y=\"214.124133\"/>\n     <use style=\"fill:#0000ff;stroke:#0000ff;\" x=\"283.267374\" xlink:href=\"#m07a5ca8c1f\" y=\"215.175501\"/>\n     <use style=\"fill:#0000ff;stroke:#0000ff;\" x=\"291.276944\" xlink:href=\"#m07a5ca8c1f\" y=\"216.77189\"/>\n     <use style=\"fill:#0000ff;stroke:#0000ff;\" x=\"299.286513\" xlink:href=\"#m07a5ca8c1f\" y=\"219.310245\"/>\n     <use style=\"fill:#0000ff;stroke:#0000ff;\" x=\"307.296083\" xlink:href=\"#m07a5ca8c1f\" y=\"221.380927\"/>\n     <use style=\"fill:#0000ff;stroke:#0000ff;\" x=\"315.305652\" xlink:href=\"#m07a5ca8c1f\" y=\"221.455639\"/>\n     <use style=\"fill:#0000ff;stroke:#0000ff;\" x=\"323.315221\" xlink:href=\"#m07a5ca8c1f\" y=\"224.232018\"/>\n     <use style=\"fill:#0000ff;stroke:#0000ff;\" x=\"331.324791\" xlink:href=\"#m07a5ca8c1f\" y=\"225.155473\"/>\n     <use style=\"fill:#0000ff;stroke:#0000ff;\" x=\"339.33436\" xlink:href=\"#m07a5ca8c1f\" y=\"225.618597\"/>\n     <use style=\"fill:#0000ff;stroke:#0000ff;\" x=\"347.343929\" xlink:href=\"#m07a5ca8c1f\" y=\"227.096869\"/>\n     <use style=\"fill:#0000ff;stroke:#0000ff;\" x=\"355.353499\" xlink:href=\"#m07a5ca8c1f\" y=\"228.162851\"/>\n     <use style=\"fill:#0000ff;stroke:#0000ff;\" x=\"363.363068\" xlink:href=\"#m07a5ca8c1f\" y=\"229.874489\"/>\n    </g>\n   </g>\n   <g id=\"patch_3\">\n    <path d=\"M 43.78125 239.758125 \nL 43.78125 22.318125 \n\" style=\"fill:none;stroke:#000000;stroke-linecap:square;stroke-linejoin:miter;stroke-width:0.8;\"/>\n   </g>\n   <g id=\"patch_4\">\n    <path d=\"M 378.58125 239.758125 \nL 378.58125 22.318125 \n\" style=\"fill:none;stroke:#000000;stroke-linecap:square;stroke-linejoin:miter;stroke-width:0.8;\"/>\n   </g>\n   <g id=\"patch_5\">\n    <path d=\"M 43.78125 239.758125 \nL 378.58125 239.758125 \n\" style=\"fill:none;stroke:#000000;stroke-linecap:square;stroke-linejoin:miter;stroke-width:0.8;\"/>\n   </g>\n   <g id=\"patch_6\">\n    <path d=\"M 43.78125 22.318125 \nL 378.58125 22.318125 \n\" style=\"fill:none;stroke:#000000;stroke-linecap:square;stroke-linejoin:miter;stroke-width:0.8;\"/>\n   </g>\n   <g id=\"text_21\">\n    <!-- SSE vs. K -->\n    <g transform=\"translate(183.439687 16.318125)scale(0.12 -0.12)\">\n     <defs>\n      <path id=\"DejaVuSans-32\"/>\n      <path d=\"M 2.984375 54.6875 \nL 12.5 54.6875 \nL 29.59375 8.796875 \nL 46.6875 54.6875 \nL 56.203125 54.6875 \nL 35.6875 0 \nL 23.484375 0 \nz\n\" id=\"DejaVuSans-118\"/>\n      <path d=\"M 44.28125 53.078125 \nL 44.28125 44.578125 \nQ 40.484375 46.53125 36.375 47.5 \nQ 32.28125 48.484375 27.875 48.484375 \nQ 21.1875 48.484375 17.84375 46.4375 \nQ 14.5 44.390625 14.5 40.28125 \nQ 14.5 37.15625 16.890625 35.375 \nQ 19.28125 33.59375 26.515625 31.984375 \nL 29.59375 31.296875 \nQ 39.15625 29.25 43.1875 25.515625 \nQ 47.21875 21.78125 47.21875 15.09375 \nQ 47.21875 7.46875 41.1875 3.015625 \nQ 35.15625 -1.421875 24.609375 -1.421875 \nQ 20.21875 -1.421875 15.453125 -0.5625 \nQ 10.6875 0.296875 5.421875 2 \nL 5.421875 11.28125 \nQ 10.40625 8.6875 15.234375 7.390625 \nQ 20.0625 6.109375 24.8125 6.109375 \nQ 31.15625 6.109375 34.5625 8.28125 \nQ 37.984375 10.453125 37.984375 14.40625 \nQ 37.984375 18.0625 35.515625 20.015625 \nQ 33.0625 21.96875 24.703125 23.78125 \nL 21.578125 24.515625 \nQ 13.234375 26.265625 9.515625 29.90625 \nQ 5.8125 33.546875 5.8125 39.890625 \nQ 5.8125 47.609375 11.28125 51.796875 \nQ 16.75 56 26.8125 56 \nQ 31.78125 56 36.171875 55.265625 \nQ 40.578125 54.546875 44.28125 53.078125 \nz\n\" id=\"DejaVuSans-115\"/>\n     </defs>\n     <use xlink:href=\"#DejaVuSans-83\"/>\n     <use x=\"63.476562\" xlink:href=\"#DejaVuSans-83\"/>\n     <use x=\"126.953125\" xlink:href=\"#DejaVuSans-69\"/>\n     <use x=\"190.136719\" xlink:href=\"#DejaVuSans-32\"/>\n     <use x=\"221.923828\" xlink:href=\"#DejaVuSans-118\"/>\n     <use x=\"281.103516\" xlink:href=\"#DejaVuSans-115\"/>\n     <use x=\"333.203125\" xlink:href=\"#DejaVuSans-46\"/>\n     <use x=\"364.990234\" xlink:href=\"#DejaVuSans-32\"/>\n     <use x=\"396.777344\" xlink:href=\"#DejaVuSans-75\"/>\n    </g>\n   </g>\n  </g>\n </g>\n <defs>\n  <clipPath id=\"pf735527f2c\">\n   <rect height=\"217.44\" width=\"334.8\" x=\"43.78125\" y=\"22.318125\"/>\n  </clipPath>\n </defs>\n</svg>\n",
      "image/png": "[encoded data removed]"
     },
     "metadata": {
      "needs_background": "light"
     }
    }
   ],
   "source": [
    "# Investigate the change in within-cluster distance across number of clusters.\n",
    "# HINT: Use matplotlib's plot function to visualize this relationship.\n",
    "plt.plot(centers, scores, linestyle='--', marker='o', color='b');\n",
    "plt.xlabel('K');\n",
    "plt.ylabel('SSE');\n",
    "plt.title('SSE vs. K');"
   ]
  },
  {
   "cell_type": "code",
   "execution_count": 81,
   "metadata": {},
   "outputs": [
    {
     "output_type": "execute_result",
     "data": {
      "text/plain": [
       "array([23,  1,  7, ...,  1,  5, 11], dtype=int32)"
      ]
     },
     "metadata": {},
     "execution_count": 81
    }
   ],
   "source": [
    "# Re-fit the k-means model with the selected number of clusters and obtain\n",
    "# cluster predictions for the general population demographics data.\n",
    "#instantiate kmeans\n",
    "kmeans_25 = KMeans(n_clusters=25)\n",
    "# Then fit the model to your data using the fit method\n",
    "model = kmeans_25.fit(azdias_pca40)\n",
    "model.predict(azdias_pca40)"
   ]
  },
  {
   "cell_type": "markdown",
   "metadata": {},
   "source": [
    "### Discussion 3.1: Apply Clustering to General Population\n",
    "\n",
    "As anticipated in the instructions, clustering data with KMeans for a number of clusters higher than (roughly) 25 brings a comparatively small additional benefit to the clustering resolution, as measured through the SSE metric. \n",
    "Therefore, we have decided to stop our process having clustered data into 25 separate groups."
   ]
  },
  {
   "cell_type": "markdown",
   "metadata": {},
   "source": [
    "### Step 3.2: Apply All Steps to the Customer Data\n",
    "\n",
    "Now that you have clusters and cluster centers for the general population, it's time to see how the customer data maps on to those clusters. Take care to not confuse this for re-fitting all of the models to the customer data. Instead, you're going to use the fits from the general population to clean, transform, and cluster the customer data. In the last step of the project, you will interpret how the general population fits apply to the customer data.\n",
    "\n",
    "- Don't forget when loading in the customers data, that it is semicolon (`;`) delimited.\n",
    "\n",
    "- Apply the same feature wrangling, selection, and engineering steps to the customer demographics using the `clean_data()` function you created earlier. (You can assume that the customer demographics data has similar meaning behind missing data patterns as the general demographics data.)\n",
    "\n",
    "- Use the sklearn objects from the general demographics data, and apply their transformations to the customers data. That is, you should not be using a `.fit()` or `.fit_transform()` method to re-fit the old objects, nor should you be creating new sklearn objects! \n",
    "Carry the data through the feature scaling, PCA, and clustering steps, obtaining cluster assignments for all of the data in the customer demographics data."
   ]
  },
  {
   "cell_type": "code",
   "execution_count": null,
   "metadata": {},
   "outputs": [],
   "source": [
    "# Load in the customer demographics data.\n",
    "customers = pd.read_csv('Udacity_CUSTOMERS_Subset.csv', sep=';')"
   ]
  },
  {
   "cell_type": "code",
   "execution_count": null,
   "metadata": {},
   "outputs": [],
   "source": [
    "# Apply preprocessing, feature transformation, and clustering from the general\n",
    "# demographics onto the customer data, obtaining cluster predictions for the\n",
    "# customer demographics data.\n",
    "clean_customers=clean_data(customers,feat_info)"
   ]
  },
  {
   "cell_type": "markdown",
   "metadata": {},
   "source": [
    "### Step 3.3: Compare Customer Data to Demographics Data\n",
    "\n",
    "At this point, you have clustered data based on demographics of the general population of Germany, and seen how the customer data for a mail-order sales company maps onto those demographic clusters. In this final substep, you will compare the two cluster distributions to see where the strongest customer base for the company is.\n",
    "\n",
    "Consider the proportion of persons in each cluster for the general population, and the proportions for the customers. If we think the company's customer base to be universal, then the cluster assignment proportions should be fairly similar between the two. If there are only particular segments of the population that are interested in the company's products, then we should see a mismatch from one to the other. If there is a higher proportion of persons in a cluster for the customer data compared to the general population (e.g. 5% of persons are assigned to a cluster for the general population, but 15% of the customer data is closest to that cluster's centroid) then that suggests the people in that cluster to be a target audience for the company. On the other hand, the proportion of the data in a cluster being larger in the general population than the customer data (e.g. only 2% of customers closest to a population centroid that captures 6% of the data) suggests that group of persons to be outside of the target demographics.\n",
    "\n",
    "Take a look at the following points in this step:\n",
    "\n",
    "- Compute the proportion of data points in each cluster for the general population and the customer data. Visualizations will be useful here: both for the individual dataset proportions, but also to visualize the ratios in cluster representation between groups. Seaborn's [`countplot()`](https://seaborn.pydata.org/generated/seaborn.countplot.html) or [`barplot()`](https://seaborn.pydata.org/generated/seaborn.barplot.html) function could be handy.\n",
    "  - Recall the analysis you performed in step 1.1.3 of the project, where you separated out certain data points from the dataset if they had more than a specified threshold of missing values. If you found that this group was qualitatively different from the main bulk of the data, you should treat this as an additional data cluster in this analysis. Make sure that you account for the number of data points in this subset, for both the general population and customer datasets, when making your computations!\n",
    "- Which cluster or clusters are overrepresented in the customer dataset compared to the general population? Select at least one such cluster and infer what kind of people might be represented by that cluster. Use the principal component interpretations from step 2.3 or look at additional components to help you make this inference. Alternatively, you can use the `.inverse_transform()` method of the PCA and StandardScaler objects to transform centroids back to the original data space and interpret the retrieved values directly.\n",
    "- Perform a similar investigation for the underrepresented clusters. Which cluster or clusters are underrepresented in the customer dataset compared to the general population, and what kinds of people are typified by these clusters?"
   ]
  },
  {
   "cell_type": "code",
   "execution_count": null,
   "metadata": {},
   "outputs": [],
   "source": [
    "# Compare the proportion of data in each cluster for the customer data to the\n",
    "# proportion of data in each cluster for the general population.\n",
    "\n"
   ]
  },
  {
   "cell_type": "code",
   "execution_count": null,
   "metadata": {},
   "outputs": [],
   "source": [
    "# What kinds of people are part of a cluster that is overrepresented in the\n",
    "# customer data compared to the general population?\n",
    "\n"
   ]
  },
  {
   "cell_type": "code",
   "execution_count": null,
   "metadata": {},
   "outputs": [],
   "source": [
    "# What kinds of people are part of a cluster that is underrepresented in the\n",
    "# customer data compared to the general population?\n",
    "\n"
   ]
  },
  {
   "cell_type": "markdown",
   "metadata": {},
   "source": [
    "### Discussion 3.3: Compare Customer Data to Demographics Data\n",
    "\n",
    "(Double-click this cell and replace this text with your own text, reporting findings and conclusions from the clustering analysis. Can we describe segments of the population that are relatively popular with the mail-order company, or relatively unpopular with the company?)"
   ]
  },
  {
   "cell_type": "markdown",
   "metadata": {},
   "source": [
    "> Congratulations on making it this far in the project! Before you finish, make sure to check through the entire notebook from top to bottom to make sure that your analysis follows a logical flow and all of your findings are documented in **Discussion** cells. Once you've checked over all of your work, you should export the notebook as an HTML document to submit for evaluation. You can do this from the menu, navigating to **File -> Download as -> HTML (.html)**. You will submit both that document and this notebook for your project submission."
   ]
  },
  {
   "cell_type": "code",
   "execution_count": null,
   "metadata": {},
   "outputs": [],
   "source": [
    "!!jupyter nbconvert Identify_Customer_Segments.ipynb --to html "
   ]
  }
 ],
 "metadata": {
  "kernelspec": {
   "display_name": "Python 3",
   "language": "python",
   "name": "python3"
  },
  "language_info": {
   "codemirror_mode": {
    "name": "ipython",
    "version": 3
   },
   "file_extension": ".py",
   "mimetype": "text/x-python",
   "name": "python",
   "nbconvert_exporter": "python",
   "pygments_lexer": "ipython3",
   "version": "3.8.5"
  }
 },
 "nbformat": 4,
 "nbformat_minor": 2
}