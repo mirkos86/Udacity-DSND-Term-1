{
 "cells": [
  {
   "cell_type": "markdown",
   "metadata": {},
   "source": [
    "# Project: Identify Customer Segments\n",
    "\n",
    "In this project, you will apply unsupervised learning techniques to identify segments of the population that form the core customer base for a mail-order sales company in Germany. These segments can then be used to direct marketing campaigns towards audiences that will have the highest expected rate of returns. The data that you will use has been provided by our partners at Bertelsmann Arvato Analytics, and represents a real-life data science task.\n",
    "\n",
    "This notebook will help you complete this task by providing a framework within which you will perform your analysis steps. In each step of the project, you will see some text describing the subtask that you will perform, followed by one or more code cells for you to complete your work. **Feel free to add additional code and markdown cells as you go along so that you can explore everything in precise chunks.** The code cells provided in the base template will outline only the major tasks, and will usually not be enough to cover all of the minor tasks that comprise it.\n",
    "\n",
    "It should be noted that while there will be precise guidelines on how you should handle certain tasks in the project, there will also be places where an exact specification is not provided. **There will be times in the project where you will need to make and justify your own decisions on how to treat the data.** These are places where there may not be only one way to handle the data. In real-life tasks, there may be many valid ways to approach an analysis task. One of the most important things you can do is clearly document your approach so that other scientists can understand the decisions you've made.\n",
    "\n",
    "At the end of most sections, there will be a Markdown cell labeled **Discussion**. In these cells, you will report your findings for the completed section, as well as document the decisions that you made in your approach to each subtask. **Your project will be evaluated not just on the code used to complete the tasks outlined, but also your communication about your observations and conclusions at each stage.**"
   ]
  },
  {
   "cell_type": "code",
   "execution_count": null,
   "metadata": {},
   "outputs": [],
   "source": [
    "# import libraries here; add more as necessary\n",
    "import numpy as np\n",
    "import pandas as pd\n",
    "import matplotlib.pyplot as plt\n",
    "import matplotlib.ticker as ticker\n",
    "import seaborn as sns\n",
    "\n",
    "# Here we import the preprocessing library which is necessary to preprocess categorical features\n",
    "from sklearn.impute import SimpleImputer\n",
    "from sklearn.preprocessing import StandardScaler\n",
    "# import library to handle regular expressions\n",
    "import re\n",
    "\n",
    "# magic word for producing visualizations in notebook\n",
    "%matplotlib inline\n",
    "\n",
    "'''Import note: The classroom currently uses sklearn version 0.19. If you need to use an imputer, it is available in \n",
    "sklearn.preprocessing.Imputer, instead of sklearn.impute as in newer versions of sklearn.'''"
   ]
  },
  {
   "cell_type": "markdown",
   "metadata": {},
   "source": [
    "### Step 0: Load the Data\n",
    "\n",
    "There are four files associated with this project (not including this one):\n",
    "\n",
    "- `Udacity_AZDIAS_Subset.csv`: Demographics data for the general population of Germany; 891211 persons (rows) x 85 features (columns).\n",
    "- `Udacity_CUSTOMERS_Subset.csv`: Demographics data for customers of a mail-order company; 191652 persons (rows) x 85 features (columns).\n",
    "- `Data_Dictionary.md`: Detailed information file about the features in the provided datasets.\n",
    "- `AZDIAS_Feature_Summary.csv`: Summary of feature attributes for demographics data; 85 features (rows) x 4 columns\n",
    "\n",
    "Each row of the demographics files represents a single person, but also includes information outside of individuals, including information about their household, building, and neighborhood. You will use this information to cluster the general population into groups with similar demographic properties. Then, you will see how the people in the customers dataset fit into those created clusters. The hope here is that certain clusters are over-represented in the customers data, as compared to the general population; those over-represented clusters will be assumed to be part of the core userbase. This information can then be used for further applications, such as targeting for a marketing campaign.\n",
    "\n",
    "To start off with, load in the demographics data for the general population into a pandas DataFrame, and do the same for the feature attributes summary. Note for all of the `.csv` data files in this project: they're semicolon (`;`) delimited, so you'll need an additional argument in your [`read_csv()`](https://pandas.pydata.org/pandas-docs/stable/generated/pandas.read_csv.html) call to read in the data properly. Also, considering the size of the main dataset, it may take some time for it to load completely.\n",
    "\n",
    "Once the dataset is loaded, it's recommended that you take a little bit of time just browsing the general structure of the dataset and feature summary file. You'll be getting deep into the innards of the cleaning in the first major step of the project, so gaining some general familiarity can help you get your bearings."
   ]
  },
  {
   "cell_type": "code",
   "execution_count": null,
   "metadata": {},
   "outputs": [],
   "source": [
    "# Load in the general demographics data.\n",
    "azdias = pd.read_csv('Udacity_AZDIAS_Subset.csv', sep=';')\n",
    "# Load in the feature summary file.\n",
    "feat_info = pd.read_csv('AZDIAS_Feature_Summary.csv', sep=';', error_bad_lines=False)"
   ]
  },
  {
   "cell_type": "code",
   "execution_count": null,
   "metadata": {},
   "outputs": [],
   "source": [
    "azdias"
   ]
  },
  {
   "cell_type": "code",
   "execution_count": null,
   "metadata": {
    "scrolled": true
   },
   "outputs": [],
   "source": [
    "# Check the structure of the data after it's loaded (e.g. print the number of\n",
    "# rows and columns, print the first few rows).\n",
    "azdias.describe()"
   ]
  },
  {
   "cell_type": "markdown",
   "metadata": {},
   "source": [
    "> **Tip**: Add additional cells to keep everything in reasonably-sized chunks! Keyboard shortcut `esc --> a` (press escape to enter command mode, then press the 'A' key) adds a new cell before the active cell, and `esc --> b` adds a new cell after the active cell. If you need to convert an active cell to a markdown cell, use `esc --> m` and to convert to a code cell, use `esc --> y`. \n",
    "\n",
    "## Step 1: Preprocessing\n",
    "\n",
    "### Step 1.1: Assess Missing Data\n",
    "\n",
    "The feature summary file contains a summary of properties for each demographics data column. You will use this file to help you make cleaning decisions during this stage of the project. First of all, you should assess the demographics data in terms of missing data. Pay attention to the following points as you perform your analysis, and take notes on what you observe. Make sure that you fill in the **Discussion** cell with your findings and decisions at the end of each step that has one!\n",
    "\n",
    "#### Step 1.1.1: Convert Missing Value Codes to NaNs\n",
    "The fourth column of the feature attributes summary (loaded in above as `feat_info`) documents the codes from the data dictionary that indicate missing or unknown data. While the file encodes this as a list (e.g. `[-1,0]`), this will get read in as a string object. You'll need to do a little bit of parsing to make use of it to identify and clean the data. Convert data that matches a 'missing' or 'unknown' value code into a numpy NaN value. You might want to see how much data takes on a 'missing' or 'unknown' code, and how much data is naturally missing, as a point of interest.\n",
    "\n",
    "**As one more reminder, you are encouraged to add additional cells to break up your analysis into manageable chunks.**"
   ]
  },
  {
   "cell_type": "code",
   "execution_count": null,
   "metadata": {},
   "outputs": [],
   "source": [
    "feat_info"
   ]
  },
  {
   "cell_type": "code",
   "execution_count": null,
   "metadata": {},
   "outputs": [],
   "source": [
    "# Identify missing or unknown data values and convert them to NaNs.\n",
    "features=np.array(feat_info['attribute'])"
   ]
  },
  {
   "cell_type": "code",
   "execution_count": null,
   "metadata": {
    "scrolled": true
   },
   "outputs": [],
   "source": [
    "# I should first identify all the possible encodings which mean 'missing or unknown data' \n",
    "# according to the dictionary,then parse them\n",
    "miss_unn=feat_info.missing_or_unknown.unique()\n",
    "print(miss_unn)"
   ]
  },
  {
   "cell_type": "code",
   "execution_count": null,
   "metadata": {},
   "outputs": [],
   "source": [
    "for f in np.array(azdias.columns):\n",
    "    for miss in [0,-1,9,'X','XX']:\n",
    "        print(str(miss) in feat_info[feat_info['attribute']==f]['missing_or_unknown'].values[0])"
   ]
  },
  {
   "cell_type": "code",
   "execution_count": null,
   "metadata": {},
   "outputs": [],
   "source": [
    "# Here I loop over the features and the various possible symbols identifying missing values;\n",
    "# if I find that the string expression in the 'missing_or_unknown' column \n",
    "# in the feature summary table contains one or more of the strings '0','1','9','X','XX', \n",
    "# I replace the corresponding entries with NaN; in the end, I do it for the string '[]' \n",
    "\n",
    "for f in np.array(azdias.columns):\n",
    "    for miss in [0,-1,9,'X','XX']:\n",
    "        if str(miss) in feat_info[feat_info['attribute']==f]['missing_or_unknown'].values[0]:\n",
    "            azdias[f].replace(miss,np.nan,inplace=True)\n",
    "            \n",
    "azdias.replace('[]',np.nan,inplace=True)"
   ]
  },
  {
   "cell_type": "markdown",
   "metadata": {},
   "source": [
    "#### Step 1.1.2: Assess Missing Data in Each Column\n",
    "\n",
    "How much missing data is present in each column? There are a few columns that are outliers in terms of the proportion of values that are missing. You will want to use matplotlib's [`hist()`](https://matplotlib.org/api/_as_gen/matplotlib.pyplot.hist.html) function to visualize the distribution of missing value counts to find these columns. Identify and document these columns. While some of these columns might have justifications for keeping or re-encoding the data, for this project you should just remove them from the dataframe. (Feel free to make remarks about these outlier columns in the discussion, however!)\n",
    "\n",
    "For the remaining features, are there any patterns in which columns have, or share, missing data?"
   ]
  },
  {
   "cell_type": "code",
   "execution_count": null,
   "metadata": {},
   "outputs": [],
   "source": [
    "# Perform an assessment of how much missing data there is in each column of the dataset.\n",
    "miss_percent_col=[round(azdias.iloc[:,[col]].isna().sum().values[0]/azdias.shape[0],2) for col in range(azdias.shape[1])];\n",
    "plt.hist(miss_percent_col,bins=20,rwidth=0.85);"
   ]
  },
  {
   "cell_type": "markdown",
   "metadata": {},
   "source": [
    "It is now time to undertand what kind of data feature more than, say, 40% of missing entries. Presumably, these features will be correlated. So first let us identify them by establishing a threshold of 20% of missing entries."
   ]
  },
  {
   "cell_type": "code",
   "execution_count": null,
   "metadata": {
    "scrolled": true
   },
   "outputs": [],
   "source": [
    "# Perform an assessment of how much missing data there is in each column of the dataset.\n",
    "col_to_drop=[i for i in range(azdias.shape[1]) if azdias.iloc[:,[i]].isna().sum().values[0]/azdias.shape[0] > 0.2]\n",
    "print(col_to_drop)\n",
    "\n",
    "features_to_drop = [azdias.iloc[:,col_to_drop[i]].name for i in range(len(col_to_drop))]\n",
    "print(features_to_drop)"
   ]
  },
  {
   "cell_type": "code",
   "execution_count": null,
   "metadata": {},
   "outputs": [],
   "source": [
    "# Investigate patterns in the amount of missing data in each column."
   ]
  },
  {
   "cell_type": "code",
   "execution_count": null,
   "metadata": {},
   "outputs": [],
   "source": [
    "for i in range(len(features_to_drop)): \n",
    "    print((features_to_drop[i],round(azdias.iloc[:,col_to_drop[i]].isna().sum()/azdias.shape[0],2)))"
   ]
  },
  {
   "cell_type": "code",
   "execution_count": null,
   "metadata": {},
   "outputs": [],
   "source": [
    "# Remove the outlier columns from the dataset. \n",
    "# (You'll perform other data engineering tasks such as re-encoding and imputation later.)\n",
    "azdias_col_dropped = azdias.drop(columns=features_to_drop)"
   ]
  },
  {
   "cell_type": "markdown",
   "metadata": {},
   "source": [
    "Discussion 1.1.2: Assess Missing Data in Each Column\n",
    "\n",
    "First let me provide the English translation of the features removed from the dataset, \n",
    "which is available from the '.md' data dictionary.\n",
    "\n",
    "- Ager type \n",
    "- Birth  Year\n",
    "- Academic Title Flag \n",
    "- Head of household birth date\n",
    "- Consumer pattern in past 12 months\n",
    "- Most common building type within the microcell\n",
    "\n",
    "It seems to me that it is pretty reasonable that such personal or qualitative data should be among the most defective within the dataset, because these are informations which are presumably hard to obtain, for a private company. \n",
    "Some of them may be searched for in census results, like the birth year. Though I am not privy to German laws on privacy, I suspect that a private company would have a hard time accessing such census results.\n",
    "\n",
    "It is likely that these data have been obtained collecting information in 3 basic ways (that I can think of at least):\n",
    "\n",
    "0. Well, information about academic titles hasn't bee collected at all.\n",
    "\n",
    "\n",
    "1. Directly from customers over the years, for instance by asking them to fill some necessary forms to initiate the commercial relationship; beside basic and necessary information, the company may have asked some non mandatory questions like birth year which have helped it identify features not directly related to the customer, like the birth date of the head of the household. The voluntary nature of one's birth year or the head-of-household's birth date disclosure make the data mining process harder, explaining why they are a bit defective. Beside, the fact that the amounts of missing data on these two features is comparable, is an indication that a persona inclined to disclose one is roughly equally inclined to disclose the other. \n",
    "\n",
    "\n",
    "2. Following up on this, the company may have put some data mining effort analysing and cross linking and checking data on neighborhoods or data on purchase patterns from the company itself to extract more qualitative features such as type of ager and consumer patterns in the past 12 months. The fact that the amount of missing data for these two features is comparable suggests that there is a correlation between them; secondly, they are also harder to mine, since more than 65% of entries is missing from both; finally, ager type is the more defective one, presumably because purchase patterns are often not informative enough, either because customers seldom purchase something or because the purchased goods are not distinctive enough. \n",
    "\n",
    "\n",
    "3. Availability of information about the most common building type in the microcell is practically a coin toss, with roughly 50% of data being available. Since, however, for all other features about microcells more than 80% of data is collected, this is likely a problem of averaging and time-dependence: it is often possible to qualify the most common types of family homes in the neighborhood in terms of number of inhabitants, but selecting the most common one can be hard for a few reasons: defining the precise borders of such a microcell (averaging) and being sure that people haven't left their families to live elsewhere (or are going to do so soon) and that newborns are unlikely to arrive/are arriving soon (time dependence). In such cases, the data engineer's conservative choice to declare uncertainty in the form of missing data may be less biasing than selecting a feebly standing option.\n"
   ]
  },
  {
   "source": [
    "To address the last question above: to know if columns share missing data, it is appropriate to look at patterns of missing data in rows, which is what we are going to do next. "
   ],
   "cell_type": "markdown",
   "metadata": {}
  },
  {
   "cell_type": "markdown",
   "metadata": {},
   "source": [
    "#### Step 1.1.3: Assess Missing Data in Each Row\n",
    "\n",
    "Now, you'll perform a similar assessment for the rows of the dataset. How much data is missing in each row? As with the columns, you should see some groups of points that have a very different numbers of missing values. Divide the data into two subsets: one for data points that are above some threshold for missing values, and a second subset for points below that threshold.\n",
    "\n",
    "In order to know what to do with the outlier rows, we should see if the distribution of data values on columns that are not missing data (or are missing very little data) are similar or different between the two groups. Select at least five of these columns and compare the distribution of values.\n",
    "- You can use seaborn's [`countplot()`](https://seaborn.pydata.org/generated/seaborn.countplot.html) function to create a bar chart of code frequencies and matplotlib's [`subplot()`](https://matplotlib.org/api/_as_gen/matplotlib.pyplot.subplot.html) function to put bar charts for the two subplots side by side.\n",
    "- To reduce repeated code, you might want to write a function that can perform this comparison, taking as one of its arguments a column to be compared.\n",
    "\n",
    "Depending on what you observe in your comparison, this will have implications on how you approach your conclusions later in the analysis. If the distributions of non-missing features look similar between the data with many missing values and the data with few or no missing values, then we could argue that simply dropping those points from the analysis won't present a major issue. On the other hand, if the data with many missing values looks very different from the data with few or no missing values, then we should make a note on those data as special. We'll revisit these data later on. **Either way, you should continue your analysis for now using just the subset of the data with few or no missing values.**"
   ]
  },
  {
   "cell_type": "code",
   "execution_count": null,
   "metadata": {},
   "outputs": [],
   "source": [
    "# How much data is missing in each row of the dataset?\n",
    "\n",
    "# I can run exactly the same analyis carried out for the dataset columns \n",
    "miss_percent_row=[azdias.iloc[[row],:].isna().sum(axis=1).values[0]/azdias.shape[1] for row in range(azdias.shape[0])];"
   ]
  },
  {
   "cell_type": "code",
   "execution_count": null,
   "metadata": {},
   "outputs": [],
   "source": [
    "plt.hist(miss_percent_row,bins=20,rwidth=0.85,label=str);"
   ]
  },
  {
   "cell_type": "code",
   "execution_count": null,
   "metadata": {
    "tags": []
   },
   "outputs": [],
   "source": [
    "# Here I count the rows having more than 30% of missing entries\n",
    "rows_to_drop=[i for i in range(azdias.shape[0]) if miss_percent_row[i] > 0.3]\n",
    "print(len(rows_to_drop))"
   ]
  },
  {
   "cell_type": "code",
   "execution_count": null,
   "metadata": {},
   "outputs": [],
   "source": [
    "# Write code to divide the data into two subsets based on the number of missing values in each row.\n",
    "\n",
    "# ANSWER 1\n",
    "# First I should drop the rows I decided to omit from the database where I have already deleted the 6 columns with less\n",
    "# than 20% of their entries (see section above) \n",
    "azdias_all_dropped = azdias_col_dropped.drop(index=rows_to_drop)\n",
    "azdias_all_dropped.reset_index(drop=True,inplace=True)"
   ]
  },
  {
   "cell_type": "code",
   "execution_count": null,
   "metadata": {},
   "outputs": [],
   "source": [
    "# ANSWER 2 \n",
    "# Second, I should build a database made just of the rows which have been taken away\n",
    "# I will take these rows from the azdias_col_dropped database, so that in both final \n",
    "# databases with less than 891221 rows\n",
    "# I will have the same number of columns; in particular, the longer one will be the database # to be used for good.\n",
    "azdias_rows_to_drop = azdias_col_dropped.iloc[rows_to_drop,:]"
   ]
  },
  {
   "cell_type": "code",
   "execution_count": null,
   "metadata": {},
   "outputs": [],
   "source": [
    "azdias_col_dropped.shape[0]"
   ]
  },
  {
   "cell_type": "code",
   "execution_count": null,
   "metadata": {},
   "outputs": [],
   "source": [
    "# Compare the distribution of values for at least five columns where there are\n",
    "# no or few missing values, between the two subsets.\n",
    "\n",
    "# ANSWER 3:\n",
    "# Since I have already dropped from both datasets the columns with >20% of missing entries,\n",
    "# I can pick the first 5 columns of both of them and make the comparison\n",
    "# To this end, let me write down a function which can make such a comparison after passing it the name of the column\n",
    "# But first let me check that, for instance, the first columns 3-7 of the dataset qualify (they do)\n",
    "# If we choose these, which are all categorical, we can use the .countplot() method to plot them all\n",
    "\n",
    "for i in range(3,8):\n",
    "    print(azdias_all_dropped.iloc[:,[i]].columns.values.item(),azdias_all_dropped.iloc[:,[i]].isna().sum().values[0]/azdias_col_dropped.shape[0])"
   ]
  },
  {
   "cell_type": "code",
   "execution_count": null,
   "metadata": {},
   "outputs": [],
   "source": [
    "def compare_distributions(column,dataset1,dataset2,datat1_desc,datat2_desc):\n",
    "    plt.figure(figsize=[18,5])\n",
    "    plt.subplot(1,2,1)\n",
    "    plt.title(datat1_desc)\n",
    "    sns.histplot(x=column, data=dataset1, stat='probability', discrete=True);\n",
    "    \n",
    "    plt.subplot(1,2,2)\n",
    "    plt.title(datat2_desc)\n",
    "    sns.histplot(x=column, data=dataset2, stat='probability', discrete=True);\n",
    "    \n",
    "    plt.subplots_adjust(wspace=0.5)\n",
    "    plt.show()"
   ]
  },
  {
   "source": [
    "With the function above, we can run a for loop over -for instance- all the ordinal variables in the dataset to gauge how many of them feature different distributions of data in the two row sets."
   ],
   "cell_type": "markdown",
   "metadata": {}
  },
  {
   "cell_type": "code",
   "execution_count": null,
   "metadata": {},
   "outputs": [],
   "source": [
    "# ORDINAL VALUES\n",
    "\n",
    "for i in range(79):\n",
    "    if feat_info[feat_info['attribute']==azdias_all_dropped.iloc[:,[i]].columns.values.item()].type.item()=='ordinal':\n",
    "        compare_distributions(azdias_all_dropped.iloc[:,[i]].columns.values.item(),azdias_all_dropped,azdias_rows_to_drop,'lighter_dataset','purged_rows')"
   ]
  },
  {
   "cell_type": "markdown",
   "metadata": {},
   "source": [
    "#### Discussion 1.1.3: Assess Missing Data in Each Row\n",
    "\n",
    "There are definitely variables for which the data distribution among the two sets of rows is quite similar.\n",
    "But there are others where there is a blatant difference between the data in the rows we have kept and those in the rows we have omitted. The first ones which strike one's attention are financial situation indicators, starting with the second ordinal variables.\n",
    "\n",
    "More specifically, we can see from the pair of histograms concerning the financial incospicousness of individuals in the dataset, that rows containing many missing data distinctively refer to individuals with significantly incospicuous financial status. \n",
    "Likely, these may not be the most interesting customers to focus a company's attention on.  \n"
   ]
  },
  {
   "cell_type": "markdown",
   "metadata": {},
   "source": [
    "### Step 1.2: Select and Re-Encode Features\n",
    "\n",
    "Checking for missing data isn't the only way in which you can prepare a dataset for analysis. Since the unsupervised learning techniques to be used will only work on data that is encoded numerically, you need to make a few encoding changes or additional assumptions to be able to make progress. In addition, while almost all of the values in the dataset are encoded using numbers, not all of them represent numeric values. Check the third column of the feature summary (`feat_info`) for a summary of types of measurement.\n",
    "- For numeric and interval data, these features can be kept without changes.\n",
    "- Most of the variables in the dataset are ordinal in nature. While ordinal values may technically be non-linear in spacing, make the simplifying assumption that the ordinal variables can be treated as being interval in nature (that is, kept without any changes).\n",
    "- Special handling may be necessary for the remaining two variable types: categorical, and 'mixed'.\n",
    "\n",
    "In the first two parts of this sub-step, you will perform an investigation of the categorical and mixed-type features and make a decision on each of them, whether you will keep, drop, or re-encode each. Then, in the last part, you will create a new data frame with only the selected and engineered columns.\n",
    "\n",
    "Data wrangling is often the trickiest part of the data analysis process, and there's a lot of it to be done here. But stick with it: once you're done with this step, you'll be ready to get to the machine learning parts of the project!"
   ]
  },
  {
   "cell_type": "code",
   "execution_count": null,
   "metadata": {},
   "outputs": [],
   "source": [
    "feat_info"
   ]
  },
  {
   "cell_type": "code",
   "execution_count": null,
   "metadata": {},
   "outputs": [],
   "source": [
    "# I will first drop from feat_info the attributes that have been dropped from azdias\n",
    "feat_info_all_dropped = feat_info.drop(index=col_to_drop)"
   ]
  },
  {
   "cell_type": "code",
   "execution_count": null,
   "metadata": {},
   "outputs": [],
   "source": [
    "# How many features are there of each data type ?\n",
    "feat_info_all_dropped['type'].value_counts()"
   ]
  },
  {
   "cell_type": "markdown",
   "metadata": {},
   "source": [
    "#### Step 1.2.1: Re-Encode Categorical Features\n",
    "\n",
    "For categorical data, you would ordinarily need to encode the levels as dummy variables. Depending on the number of categories, perform one of the following:\n",
    "- For binary (two-level) categoricals that take numeric values, you can keep them without needing to do anything.\n",
    "- There is one binary variable that takes on non-numeric values. For this one, you need to re-encode the values as numbers or create a dummy variable.\n",
    "- For multi-level categoricals (three or more values), you can choose to encode the values using multiple dummy variables (e.g. via [OneHotEncoder](http://scikit-learn.org/stable/modules/generated/sklearn.preprocessing.OneHotEncoder.html)), or (to keep things straightforward) just drop them from the analysis. As always, document your choices in the Discussion section."
   ]
  },
  {
   "cell_type": "code",
   "execution_count": null,
   "metadata": {},
   "outputs": [],
   "source": [
    "# Assess categorical variables: which are binary, which are multi-level, and\n",
    "# which one needs to be re-encoded?\n",
    "\n",
    "# The following shows the requested information:\n",
    "# 'GEBAEUDETYP' is the binary variable which takes non numeric values\n",
    "\n",
    "cat_idx=list(feat_info_all_dropped[feat_info_all_dropped['type']=='categorical']['attribute'].index)\n",
    "\n",
    "for i in cat_idx:\n",
    "    print(azdias_all_dropped[feat_info_all_dropped[feat_info_all_dropped['type']=='categorical']['attribute'][i]].value_counts())"
   ]
  },
  {
   "cell_type": "code",
   "execution_count": null,
   "metadata": {},
   "outputs": [],
   "source": [
    "# Here we create the lists by identifying the features which have more than 2 values\n",
    "# and signing them up for encoding. \n",
    "# At the same time we identify those with 2 values which are not numerical and, therefore,\n",
    "# need encoding as well. A more general code can be more naturally \n",
    "# incorporated into the general data-cleaning function requested above. \n",
    "\n",
    "need_encod=[];\n",
    "no_need_encod=[];\n",
    "\n",
    "for i in cat_idx:\n",
    "    if len(azdias_all_dropped[feat_info_all_dropped[feat_info_all_dropped['type']=='categorical']['attribute'][i]].value_counts()) >2:\n",
    "        need_encod.append(i)\n",
    "    elif len(azdias_all_dropped[feat_info_all_dropped[feat_info_all_dropped['type']=='categorical']['attribute'][i]].value_counts()) == 2 and azdias_all_dropped[feat_info_all_dropped[feat_info_all_dropped['type']=='categorical']['attribute'][i]].dtype not in ['int64','float64']:\n",
    "        need_encod.append(i)\n",
    "    else: \n",
    "        no_need_encod.append(i)\n",
    "\n",
    "# So the features with their index in the 'need_encod' list are up for OneHotEnconding"
   ]
  },
  {
   "cell_type": "code",
   "execution_count": null,
   "metadata": {},
   "outputs": [],
   "source": [
    "# Here is the list of feature labels to be encoded\n",
    "to_be_encoded=list(feat_info_all_dropped[feat_info_all_dropped['type']=='categorical']['attribute'].drop(index=no_need_encod))"
   ]
  },
  {
   "cell_type": "code",
   "execution_count": null,
   "metadata": {},
   "outputs": [],
   "source": [
    "# Here we actually encode our features\n",
    "azdias_encoded = pd.get_dummies(azdias_all_dropped,columns=to_be_encoded)"
   ]
  },
  {
   "cell_type": "markdown",
   "metadata": {},
   "source": [
    "#### Discussion 1.2.1: Re-Encode Categorical Features\n",
    "\n",
    "So far, what I have decided to do has been to keep all categorical features. \n",
    "I have decided built a general-purpose routine which can be transferred right away \n",
    "to the data-cleaning function requested below. \n",
    "\n",
    "The data engineering steps performed so far have consisted in \n",
    "\n",
    "1. identifying the categorical variables\n",
    "\n",
    "2. determining which variables need re-econding, either because they are not binary or because,\n",
    "despite being binary, they are not numerical in nature;\n",
    "\n",
    "3. using pd.get_dummies to one-hot-encode these variables and obtain the new dataset."
   ]
  },
  {
   "cell_type": "markdown",
   "metadata": {},
   "source": [
    "#### Step 1.2.2: Engineer Mixed-Type Features\n",
    "\n",
    "There are a handful of features that are marked as \"mixed\" in the feature summary that require special treatment in order to be included in the analysis. There are two in particular that deserve attention; the handling of the rest are up to your own choices:\n",
    "- \"PRAEGENDE_JUGENDJAHRE\" combines information on three dimensions: generation by decade, movement (mainstream vs. avantgarde), and nation (east vs. west). While there aren't enough levels to disentangle east from west, you should create two new variables to capture the other two dimensions: an interval-type variable for decade, and a binary variable for movement.\n",
    "- \"CAMEO_INTL_2015\" combines information on two axes: wealth and life stage. Break up the two-digit codes by their 'tens'-place and 'ones'-place digits into two new ordinal variables (which, for the purposes of this project, is equivalent to just treating them as their raw numeric values).\n",
    "- If you decide to keep or engineer new features around the other mixed-type features, make sure you note your steps in the Discussion section.\n",
    "\n",
    "Be sure to check `Data_Dictionary.md` for the details needed to finish these tasks."
   ]
  },
  {
   "cell_type": "code",
   "execution_count": null,
   "metadata": {},
   "outputs": [],
   "source": [
    "# Investigate \"PRAEGENDE_JUGENDJAHRE\" and engineer two new variables."
   ]
  },
  {
   "cell_type": "code",
   "execution_count": null,
   "metadata": {},
   "outputs": [],
   "source": [
    "# In order to create the binary variable out of 'PRAEGENDE_JUGENDJAHRE', we first set up\n",
    "# lists, looking at the data dictionary, of the values corresponding to Mainstream or \n",
    "# Avantgarde\n",
    "mainstream_entries=[1,3,5,8,10,12,14]\n",
    "avantgarde_entries=[2,4,6,7,9,11,13,15]\n",
    "# Next, we set up a list for the decades\n",
    "decade_entries=[40,40,50,50,60,60,60,70,70,80,80,80,80,90,90]"
   ]
  },
  {
   "cell_type": "code",
   "execution_count": null,
   "metadata": {},
   "outputs": [],
   "source": [
    "# Youth decade function\n",
    "def youth(obj,list):\n",
    "    if pd.isnull(obj) == False:\n",
    "        return list[int(obj)-1]"
   ]
  },
  {
   "cell_type": "code",
   "execution_count": null,
   "metadata": {},
   "outputs": [],
   "source": [
    "# Engineering the person's youth decade \n",
    "# (German translation courtesy of Google Translate)\n",
    "azdias_encoded['JUGENDEKKADE']=azdias_encoded.PRAEGENDE_JUGENDJAHRE.apply(youth,args=(decade_entries,))"
   ]
  },
  {
   "cell_type": "code",
   "execution_count": null,
   "metadata": {},
   "outputs": [],
   "source": [
    "def movement(obj,mov_1,mov_2):\n",
    "    if pd.isnull(obj) == False:\n",
    "        if int(obj) in mov_1:\n",
    "            return 0\n",
    "        elif int(obj) in mov_2:\n",
    "            return 1"
   ]
  },
  {
   "cell_type": "code",
   "execution_count": null,
   "metadata": {},
   "outputs": [],
   "source": [
    "# Engineering the person's ideological movement carachterising her youth \n",
    "# (German translation courtesy of Google Translate)\n",
    "azdias_encoded['BEWEGUND']=azdias_encoded.PRAEGENDE_JUGENDJAHRE.apply(movement,args=(mainstream_entries,avantgarde_entries))"
   ]
  },
  {
   "cell_type": "code",
   "execution_count": null,
   "metadata": {},
   "outputs": [],
   "source": [
    "# Investigate \"CAMEO_INTL_2015\" and engineer two new variables\n",
    "\n",
    "# This is more immediate, it just boils down to separating decimal places\n",
    "# Function to isolate the wanted decimal place and turn it into a number\n",
    "def int_split(string,i):\n",
    "    if pd.isnull(string)==False: \n",
    "        return string[i]\n",
    "\n",
    "# German translation of wealth level and family structure courtesy of Google Translate \n",
    "azdias_encoded['REICHTUM']=azdias_encoded.CAMEO_INTL_2015.apply(int_split,args=(0,))\n",
    "azdias_encoded['FAMILIENSTRUKTUR']=azdias_encoded.CAMEO_INTL_2015.apply(int_split,args=(1,))"
   ]
  },
  {
   "cell_type": "code",
   "execution_count": null,
   "metadata": {},
   "outputs": [],
   "source": [
    "feat_info_all_dropped[feat_info_all_dropped['type']=='mixed']"
   ]
  },
  {
   "source": [
    "Now we must turn our attention to the remaining mixed type variables which are still left\n",
    "and whose information we mean to keep (see section below for details).  \n",
    "We start with WOHNLAGE, which stands for neighborhood quality."
   ],
   "cell_type": "markdown",
   "metadata": {}
  },
  {
   "cell_type": "code",
   "execution_count": null,
   "metadata": {},
   "outputs": [],
   "source": [
    "# We have to engineer a new variable which flags the neighborhood as rural or not (1,2 vs 0)\n",
    "# and distinguishes newer (2) from older houses (1) \n",
    "# Its value is NaN if the record was not taken\n",
    "\n",
    "def rural_var(obj,list_1,list_2,list_3,list_4):\n",
    "    if pd.isnull(obj) == False:\n",
    "        if obj in list_1:\n",
    "            return np.nan\n",
    "        elif obj in list_2:\n",
    "            return 0\n",
    "        elif obj in list_3:\n",
    "            return 1\n",
    "        elif obj in list_4:\n",
    "            return 2\n",
    "\n",
    "azdias_encoded['LÄNDLICHES_GEBIET']=azdias_encoded.WOHNLAGE.apply(rural_var,args=([0],[1,2,3,4,5],[7],[8]))"
   ]
  },
  {
   "cell_type": "code",
   "execution_count": null,
   "metadata": {},
   "outputs": [],
   "source": [
    "# And this is the second new variable, which is NaN if the quality of the home is not measured\n",
    "# or if the latter is in a rural area, otherwise it keeps the 5 ordinal values for the urban\n",
    "# classification\n",
    "\n",
    "def neigh_qual(obj,list_1,list_2):\n",
    "    if obj in list_1:\n",
    "        return obj\n",
    "    elif obj in list_2:\n",
    "        return np.nan\n",
    "\n",
    "azdias_encoded['NACHBARSCHAFTSQUALITÄT']=azdias_encoded.WOHNLAGE.apply(neigh_qual,args=([1,2,3,4,5],[0,7,8]))"
   ]
  },
  {
   "source": [
    "Now is the turn of PLZ8_BAUMAX, a variable which we also want to split into two new variables: a binary variable to tell business area from residential areas and the other one to distinguish the four remaining categories of residential areas based on the most common range of numbers of families living within the microcell. "
   ],
   "cell_type": "markdown",
   "metadata": {}
  },
  {
   "cell_type": "code",
   "execution_count": null,
   "metadata": {},
   "outputs": [],
   "source": [
    "azdias_encoded['PLZ8_BAUMAX'].value_counts()\n",
    "\n",
    "# This is a trivial function to create the binary variable\n",
    "def binary_business(obj,list_1,list_2):\n",
    "    if obj in list_1:\n",
    "        return 0\n",
    "    elif obj in list_2:\n",
    "        return 1\n",
    "\n",
    "azdias_encoded['GESCHÄFTSBEREICH']=azdias_encoded.PLZ8_BAUMAX.apply(binary_business,args=([1,2,3,4],[5]))\n",
    "\n",
    "# Here come another simple function to create the categorical variable \n",
    "# in the event that the area is residential\n",
    "\n",
    "def fam_num(obj,list_1,list_2):\n",
    "    if obj in list_1:\n",
    "        return obj\n",
    "    elif obj in list_2:\n",
    "        return 0\n",
    "\n",
    "azdias_encoded['GANZAHL_DER_FAMILIEN']=azdias_encoded.PLZ8_BAUMAX.apply(fam_num,args=([1,2,3,4],[5]))"
   ]
  },
  {
   "cell_type": "code",
   "execution_count": null,
   "metadata": {},
   "outputs": [],
   "source": [
    "azdias_encoded.drop(columns=['PRAEGENDE_JUGENDJAHRE','CAMEO_INTL_2015','WOHNLAGE','PLZ8_BAUMAX','LP_LEBENSPHASE_FEIN','LP_LEBENSPHASE_GROB'],inplace=True)"
   ]
  },
  {
   "cell_type": "markdown",
   "metadata": {},
   "source": [
    "#### Discussion 1.2.2: Engineer Mixed-Type Features\n",
    "\n",
    "As for 'PRAEGENDE_JUGENDJAHRE' and 'CAMEO_INTL_2015', I performed exactly the steps required in the assignment above.\n",
    "\n",
    "This leaves 4 more mixed type features among those with sufficient data, namely\n",
    "\n",
    "- LP_LEBENSPHASE_FEIN and LP_LEBENSPHASE_GROB, i.e.\n",
    "  fine grained or more coarse aggregated information about life stage and weath of people.\n",
    "  I decided to drop these two: first of all, they contain a lot of redundant information: \n",
    "  for instance, people's wealth is recorded in\n",
    "  CAMEO_INTL_2015, which we have already disentangled.\n",
    "\n",
    "- WOHNLAGE, i.e. neighborhood quality or rural flag and I decided to add a binary variable\n",
    "  which carachterizes the neighborhood ar rural or not, while keeping the remaining\n",
    "  information within another variable for city households.\n",
    "\n",
    "- PLZ8_BAUMAX, i.e. most common number of families within one building or business buildings,\n",
    "  led me to a similar choice: I created a new binary variable which charachterizes the area\n",
    "  as business area or not and kept the remaining information about the most common number of families\n",
    "  in any given building within the microcell in another variable."
   ]
  },
  {
   "cell_type": "markdown",
   "metadata": {},
   "source": [
    "#### Step 1.2.3: Complete Feature Selection\n",
    "\n",
    "In order to finish this step up, you need to make sure that your data frame now only has the columns that you want to keep. To summarize, the dataframe should consist of the following:\n",
    "- All numeric, interval, and ordinal type columns from the original dataset.\n",
    "- Binary categorical features (all numerically-encoded).\n",
    "- Engineered features from other multi-level categorical features and mixed features.\n",
    "\n",
    "Make sure that for any new columns that you have engineered, that you've excluded the original columns from the final dataset. Otherwise, their values will interfere with the analysis later on the project. For example, you should not keep \"PRAEGENDE_JUGENDJAHRE\", since its values won't be useful for the algorithm: only the values derived from it in the engineered features you created should be retained. As a reminder, your data should only be from **the subset with few or no missing values**."
   ]
  },
  {
   "source": [
    "# If there are other re-engineering tasks you need to perform, make sure you\n",
    "# take care of them here. (Dealing with missing data will come in step 2.1.)\n",
    "\n",
    "#Looking at the mixed type fetures which had survived to data dropping due to an excess of missing values,\n",
    "# we can see below that the 6 mixed type features have been takien care of above \n",
    "\n",
    "feat_info_all_dropped[feat_info_all_dropped['type']=='mixed']"
   ],
   "cell_type": "code",
   "metadata": {},
   "execution_count": null,
   "outputs": []
  },
  {
   "cell_type": "code",
   "execution_count": null,
   "metadata": {},
   "outputs": [],
   "source": [
    "# Do whatever you need to in order to ensure that the dataframe only contains\n",
    "# the columns that should be passed to the algorithm functions.\n",
    "\n",
    "# I can create a new feature summary which does not see them and includes, on the other hand,\n",
    "# the newly created variables\n",
    "feat_info_all_dropped_nomixed=feat_info_all_dropped.drop(index=[15,16,22,56,59,79])\n",
    "\n",
    "# I can create a new database with the 8 newly engineered features\n",
    "\n",
    "feat_info_new_mixed = {\n",
    "'attribute' : ['JUGENDEKKADE','BEWEGUND','REICHTUM','FAMILIENSTRUKTUR','LÄNDLICHES_GEBIET','NACHBARSCHAFTSQUALITÄT','GESCHÄFTSBEREICH','GANZAHL_DER_FAMILIEN'],\n",
    "'information_level': ['person','person','microcell_rr4','microcell_rr4','building','building','microcell_plz8','microcell_plz8'] ,\n",
    "'type': ['categorical','categorical','categorical','categorical','categorical','categorical','categorical','categorical'],\n",
    "'missing_or_unknown': [np.nan,np.nan,np.nan,np.nan,np.nan,np.nan,np.nan,np.nan]\n",
    "}\n",
    "\n",
    "new_feat = pd.DataFrame(feat_info_new_mixed)\n",
    "\n",
    "feat_info_final = feat_info_all_dropped_nomixed.append(new_feat)"
   ]
  },
  {
   "cell_type": "code",
   "execution_count": null,
   "metadata": {},
   "outputs": [],
   "source": [
    "# Now I should check that the number of features I have dropped initially plus the 6 mixed type ones I have re-engineered minus the 8 new ones is equal to the difference between the rows of feat_info and feat_info_final\n",
    "\n",
    "feat_info.shape[0]-feat_info_final.shape[0]-(len(col_to_drop)+6-8)"
   ]
  },
  {
   "cell_type": "markdown",
   "metadata": {},
   "source": [
    "### Step 1.3: Create a Cleaning Function\n",
    "\n",
    "Even though you've finished cleaning up the general population demographics data, it's important to look ahead to the future and realize that you'll need to perform the same cleaning steps on the customer demographics data. \n",
    "\n",
    "In this substep, complete the function below to execute the main feature selection, encoding, and re-engineering steps you performed above. Then, when it comes to looking at the customer data in Step 3, you can just run this function on that DataFrame to get the trimmed dataset in a single step."
   ]
  },
  {
   "cell_type": "code",
   "execution_count": null,
   "metadata": {},
   "outputs": [],
   "source": [
    "'PRAEGENDE_JUGENDJAHRE' in azdias_all_dropped.columns"
   ]
  },
  {
   "cell_type": "code",
   "execution_count": null,
   "metadata": {},
   "outputs": [],
   "source": [
    "np.array(azdias.columns)"
   ]
  },
  {
   "cell_type": "code",
   "execution_count": null,
   "metadata": {},
   "outputs": [],
   "source": [
    "def clean_data(df,df_info):\n",
    "    \"\"\"\n",
    "    Perform feature trimming, re-encoding, and engineering for demographics data    \n",
    "    INPUT: Demographics DataFrame OUTPUT: Trimmed and cleaned demographics DataFrame\n",
    "    \"\"\"\n",
    "    # Comment 1: I am assuming I can include the feat_info metadata table as an argument to the\n",
    "    # function, unless I can just take it from outside the function itself to stick to the \n",
    "    # single argument prescriptions above...in either case, I need the info abou the 'missing or unknown'\n",
    "    # data which is stored in the feat_info\n",
    "\n",
    "    # PUT IN THE CODE HERE TO EXECUTE ALLA MAIN CLEANING STEPS:\n",
    "    # CONVERT\n",
    "    \n",
    "    for f in np.array(df.columns):\n",
    "        for miss in [0,-1,9,'X','XX']:\n",
    "            if re.search(str(miss),df_info[df_info['attribute']==f]['missing_or_unknown'].values[0]):\n",
    "                azdias[f].replace(miss,np.nan,inplace=True)\n",
    "            \n",
    "    df.replace('[]',np.nan,inplace=True)\n",
    "    # remove selected columns and rows, ...\n",
    "    col_to_drop=[i for i in range(df.shape[1]) if df.iloc[:,[i]].isna().sum().values[0]/df.shape[0] > 0.2]\n",
    "\n",
    "    features_to_drop = [df.iloc[:,col_to_drop[i]].name for i in range(len(col_to_drop))] \n",
    "    df.drop(columns=features_to_drop,inplace=True)\n",
    "\n",
    "    # Selecting with more than 30% of missing entries and dropping them\n",
    "    rows_to_drop=[i for i in range(df.shape[0]) if df.iloc[[i],:].isna().sum(axis=1).values[0]/df.shape[1] > 0.3]\n",
    "    df.drop(index=rows_to_drop)\n",
    "    df.reset_index(drop=True,inplace=True)\n",
    "    \n",
    "    # SELECT, REENCODE AND ENGINEER COLUMN VALUES.\n",
    "    # I will first drop from feat_info the attributes that have been dropped from azdias\n",
    "    df_info.drop(index=col_to_drop,inplace=True)\n",
    "    \n",
    "    # Tracking down categorical variables\n",
    "    \n",
    "    cat_idx=list(df_info[df_info['type']=='categorical']['attribute'].index)\n",
    "\n",
    "    # Distinguishing categorical feature which need encoding from those which do not\n",
    "\n",
    "    need_encod=[];\n",
    "    no_need_encod=[];\n",
    "\n",
    "    for i in cat_idx:\n",
    "        if len(df[df_info[df_info['type']=='categorical']['attribute'][i]].value_counts()) >2:\n",
    "            need_encod.append(i)\n",
    "        elif len(df[df_info[df_info['type']=='categorical']['attribute'][i]].value_counts()) == 2 and df[df_info[df_info['type']=='categorical']['attribute'][i]].dtype not in ['int64','float64']:\n",
    "            need_encod.append(i)\n",
    "        else:\n",
    "            no_need_encod.append(i)\n",
    "            \n",
    "    # So the features with their index in the 'need_encod' list are up for OneHotEnconding\n",
    "    # Here is the list of feature labels to be encoded\n",
    "    to_be_encoded=list(df_info[df_info['type']=='categorical']['attribute'].drop(index=no_need_encod))\n",
    "    # Here we actually encode our features\n",
    "    df_encoded = pd.get_dummies(df,columns=to_be_encoded)\n",
    "\n",
    "    # From now on we assume that we can take the functions \n",
    "    # defined in the encoding section of part I for granted,therefore using them freely in this function \n",
    "    \n",
    "    mixed_list=['PRAEGENDE_JUGENDJAHRE','CAMEO_INTL_2015','WOHNLAGE','PLZ8_BAUMAX','LP_LEBENSPHASE_FEIN','LP_LEBENSPHASE_GROB'];\n",
    "\n",
    "    # Engineering the person's youth decade\n",
    "    if 'PRAEGENDE_JUGENDJAHRE' in df_encoded.columns:\n",
    "        df_encoded['JUGENDEKKADE']=df_encoded.PRAEGENDE_JUGENDJAHRE.apply(youth,args=(decade_entries,))\n",
    "    \n",
    "    # Engineering the person's ideological movement carachterising her youth \n",
    "    if 'BEWEGUND' in df_encoded.columns:\n",
    "        df_encoded['BEWEGUND']=df_encoded.PRAEGENDE_JUGENDJAHRE.apply(movement,args=(mainstream_entries,avantgarde_entries))\n",
    "    # German translation of wealth level and family structure courtesy of Google Translate \n",
    "    if 'CAMEO_INTL_2015' in df_encoded.columns:\n",
    "        df_encoded['REICHTUM']=df_encoded.CAMEO_INTL_2015.apply(int_split,args=(0,))\n",
    "        df_encoded['FAMILIENSTRUKTUR']=df_encoded.CAMEO_INTL_2015.apply(int_split,args=(1,))\n",
    "    # This is the new binary variable (German translation courtesy of Google Translate)\n",
    "    if 'WOHNLAGE' in df_encoded.columns:\n",
    "        df_encoded['LÄNDLICHES_GEBIET']=df_encoded.WOHNLAGE.apply(rural_var,args=([0],[1,2,3,4,5],[7],[8]))\n",
    "        df_encoded['NACHBARSCHAFTSQUALITÄT']=df_encoded.WOHNLAGE.apply(neigh_qual,args=([1,2,3,4,5],[0,7,8]))\n",
    "    if 'PLZ8_BAUMAX' in df.encoded.columns:\n",
    "        df_encoded['GESCHÄFTSBEREICH']=df_encoded.PLZ8_BAUMAX.apply(binary_business,args=([1,2,3,4],[5]))\n",
    "        df_encoded['GANZAHL_DER_FAMILIEN']=df_encoded.PLZ8_BAUMAX.apply(fam_num,args=([1,2,3,4],[5]))\n",
    "    \n",
    "    # Removing the other 6 mixed type variables which I must not keep any longer\n",
    "    # either because I have engineered new features (first 4) or because I have dropped them (last 2)\n",
    "    # Dropping them all in the same line of code allows me to make sure they are not left \n",
    "\n",
    "    df_cleaned=df_encoded.drop(columns=mixed_list)\n",
    "\n",
    "    # RETURN THE CLEANED DATAFRAME.\n",
    "    return df_cleaned"
   ]
  },
  {
   "cell_type": "markdown",
   "metadata": {},
   "source": [
    "## Step 2: Feature Transformation\n",
    "\n",
    "### Step 2.1: Apply Feature Scaling\n",
    "\n",
    "Before we apply dimensionality reduction techniques to the data, we need to perform feature scaling so that the principal component vectors are not influenced by the natural differences in scale for features. Starting from this part of the project, you'll want to keep an eye on the [API reference page for sklearn](http://scikit-learn.org/stable/modules/classes.html) to help you navigate to all of the classes and functions that you'll need. In this substep, you'll need to check the following:\n",
    "\n",
    "- sklearn requires that data not have missing values in order for its estimators to work properly. So, before applying the scaler to your data, make sure that you've cleaned the DataFrame of the remaining missing values. This can be as simple as just removing all data points with missing data, or applying an [Imputer](http://scikit-learn.org/stable/modules/generated/sklearn.preprocessing.Imputer.html) to replace all missing values. You might also try a more complicated procedure where you temporarily remove missing values in order to compute the scaling parameters before re-introducing those missing values and applying imputation. Think about how much missing data you have and what possible effects each approach might have on your analysis, and justify your decision in the discussion section below.\n",
    "- For the actual scaling function, a [StandardScaler](http://scikit-learn.org/stable/modules/generated/sklearn.preprocessing.StandardScaler.html) instance is suggested, scaling each feature to mean 0 and standard deviation 1.\n",
    "- For these classes, you can make use of the `.fit_transform()` method to both fit a procedure to the data as well as apply the transformation to the data at the same time. Don't forget to keep the fit sklearn objects handy, since you'll be applying them to the customer demographics data towards the end of the project."
   ]
  },
  {
   "cell_type": "code",
   "execution_count": null,
   "metadata": {},
   "outputs": [],
   "source": [
    "# If you've not yet cleaned the dataset of all NaN values, then investigate and do that now.\n",
    "\n",
    "# We see that 39% (> every third) of data features some missing values. \n",
    "# Simply removing them is definitely going to bias the estimates of some parameters,\n",
    "# so outright deleting rows with missing values is not the way\n",
    "\n",
    "azdias_encoded.shape[0], azdias_encoded.isna().any(axis=1).sum(), azdias_encoded.isna().any(axis=1).sum()/azdias_encoded.shape[0]"
   ]
  },
  {
   "cell_type": "code",
   "execution_count": null,
   "metadata": {},
   "outputs": [],
   "source": [
    "# As we can see, in the vast majority of rows there are no or very few missing values. \n",
    "azdias_encoded.isna().sum(axis=1).value_counts()"
   ]
  },
  {
   "cell_type": "code",
   "execution_count": null,
   "metadata": {},
   "outputs": [],
   "source": [
    "# Beside, in neraly all columns the percentage of missing data is negligible: \n",
    "# below one can see that columns with many missing values are rare (actually, only one has # an order of magnitude of missing values comparabe to the number of rows)\n",
    "azdias_encoded.isna().sum(axis=0).value_counts()"
   ]
  },
  {
   "source": [
    "# We conclude that using an imputer replacing missing values with most frequent ones \n",
    "# on the azdias_encoded dataset is fine\n",
    "\n",
    "# So here we go, applying the imputer to our dataframe\n",
    "imp_most=SimpleImputer(missing_values=np.nan,strategy='median')\n",
    "azdias_imputed=imp_most.fit_transform(azdias_encoded)"
   ],
   "cell_type": "code",
   "metadata": {},
   "execution_count": null,
   "outputs": []
  },
  {
   "cell_type": "code",
   "execution_count": null,
   "metadata": {},
   "outputs": [],
   "source": [
    "# Applying feature scaling to the general population demographics data.\n",
    "std_scal=StandardScaler(with_mean=True,with_std=True)\n",
    "azdias_scaled=std_scal.fit_transform(azdias_imputed)"
   ]
  },
  {
   "cell_type": "markdown",
   "metadata": {},
   "source": [
    "### Discussion 2.1: Apply Feature Scaling\n",
    "\n",
    "As explained in the comments above, what jumps to one's attention is\n",
    "\n",
    "1- there are too many rows with missing data (39%) to simply remove them before scaling.\n",
    "\n",
    "2- most of these rows have very few missing values, which means that they will affect only. few columns\n",
    "\n",
    "3- the missing data are quite sparse across columns, i.e. there is a very limited amount of columns with a significcant amount of missing data. \n",
    "\n",
    "These three considerations led us to decide to impute NaNs entries by replacing them with the most frequent value for the feature. "
   ]
  },
  {
   "cell_type": "markdown",
   "metadata": {},
   "source": [
    "### Step 2.2: Perform Dimensionality Reduction\n",
    "\n",
    "On your scaled data, you are now ready to apply dimensionality reduction techniques.\n",
    "\n",
    "- Use sklearn's [PCA](http://scikit-learn.org/stable/modules/generated/sklearn.decomposition.PCA.html) class to apply principal component analysis on the data, thus finding the vectors of maximal variance in the data. To start, you should not set any parameters (so all components are computed) or set a number of components that is at least half the number of features (so there's enough features to see the general trend in variability).\n",
    "- Check out the ratio of variance explained by each principal component as well as the cumulative variance explained. Try plotting the cumulative or sequential values using matplotlib's [`plot()`](https://matplotlib.org/api/_as_gen/matplotlib.pyplot.plot.html) function. Based on what you find, select a value for the number of transformed features you'll retain for the clustering part of the project.\n",
    "- Once you've made a choice for the number of components to keep, make sure you re-fit a PCA instance to perform the decided-on transformation."
   ]
  },
  {
   "cell_type": "code",
   "execution_count": null,
   "metadata": {},
   "outputs": [],
   "source": [
    "# Apply PCA to the data.\n",
    "\n"
   ]
  },
  {
   "cell_type": "code",
   "execution_count": null,
   "metadata": {},
   "outputs": [],
   "source": [
    "# Investigate the variance accounted for by each principal component.\n",
    "\n"
   ]
  },
  {
   "cell_type": "code",
   "execution_count": null,
   "metadata": {},
   "outputs": [],
   "source": [
    "# Re-apply PCA to the data while selecting for number of components to retain.\n",
    "\n"
   ]
  },
  {
   "cell_type": "markdown",
   "metadata": {},
   "source": [
    "### Discussion 2.2: Perform Dimensionality Reduction\n",
    "\n",
    "(Double-click this cell and replace this text with your own text, reporting your findings and decisions regarding dimensionality reduction. How many principal components / transformed features are you retaining for the next step of the analysis?)"
   ]
  },
  {
   "cell_type": "markdown",
   "metadata": {},
   "source": [
    "### Step 2.3: Interpret Principal Components\n",
    "\n",
    "Now that we have our transformed principal components, it's a nice idea to check out the weight of each variable on the first few components to see if they can be interpreted in some fashion.\n",
    "\n",
    "As a reminder, each principal component is a unit vector that points in the direction of highest variance (after accounting for the variance captured by earlier principal components). The further a weight is from zero, the more the principal component is in the direction of the corresponding feature. If two features have large weights of the same sign (both positive or both negative), then increases in one tend expect to be associated with increases in the other. To contrast, features with different signs can be expected to show a negative correlation: increases in one variable should result in a decrease in the other.\n",
    "\n",
    "- To investigate the features, you should map each weight to their corresponding feature name, then sort the features according to weight. The most interesting features for each principal component, then, will be those at the beginning and end of the sorted list. Use the data dictionary document to help you understand these most prominent features, their relationships, and what a positive or negative value on the principal component might indicate.\n",
    "- You should investigate and interpret feature associations from the first three principal components in this substep. To help facilitate this, you should write a function that you can call at any time to print the sorted list of feature weights, for the *i*-th principal component. This might come in handy in the next step of the project, when you interpret the tendencies of the discovered clusters."
   ]
  },
  {
   "cell_type": "code",
   "execution_count": null,
   "metadata": {},
   "outputs": [],
   "source": [
    "# Map weights for the first principal component to corresponding feature names\n",
    "# and then print the linked values, sorted by weight.\n",
    "# HINT: Try defining a function here or in a new cell that you can reuse in the\n",
    "# other cells.\n",
    "\n"
   ]
  },
  {
   "cell_type": "code",
   "execution_count": null,
   "metadata": {},
   "outputs": [],
   "source": [
    "# Map weights for the second principal component to corresponding feature names\n",
    "# and then print the linked values, sorted by weight.\n",
    "\n"
   ]
  },
  {
   "cell_type": "code",
   "execution_count": null,
   "metadata": {},
   "outputs": [],
   "source": [
    "# Map weights for the third principal component to corresponding feature names\n",
    "# and then print the linked values, sorted by weight.\n",
    "\n"
   ]
  },
  {
   "cell_type": "markdown",
   "metadata": {},
   "source": [
    "### Discussion 2.3: Interpret Principal Components\n",
    "\n",
    "(Double-click this cell and replace this text with your own text, reporting your observations from detailed investigation of the first few principal components generated. Can we interpret positive and negative values from them in a meaningful way?)"
   ]
  },
  {
   "cell_type": "markdown",
   "metadata": {},
   "source": [
    "## Step 3: Clustering\n",
    "\n",
    "### Step 3.1: Apply Clustering to General Population\n",
    "\n",
    "You've assessed and cleaned the demographics data, then scaled and transformed them. Now, it's time to see how the data clusters in the principal components space. In this substep, you will apply k-means clustering to the dataset and use the average within-cluster distances from each point to their assigned cluster's centroid to decide on a number of clusters to keep.\n",
    "\n",
    "- Use sklearn's [KMeans](http://scikit-learn.org/stable/modules/generated/sklearn.cluster.KMeans.html#sklearn.cluster.KMeans) class to perform k-means clustering on the PCA-transformed data.\n",
    "- Then, compute the average difference from each point to its assigned cluster's center. **Hint**: The KMeans object's `.score()` method might be useful here, but note that in sklearn, scores tend to be defined so that larger is better. Try applying it to a small, toy dataset, or use an internet search to help your understanding.\n",
    "- Perform the above two steps for a number of different cluster counts. You can then see how the average distance decreases with an increasing number of clusters. However, each additional cluster provides a smaller net benefit. Use this fact to select a final number of clusters in which to group the data. **Warning**: because of the large size of the dataset, it can take a long time for the algorithm to resolve. The more clusters to fit, the longer the algorithm will take. You should test for cluster counts through at least 10 clusters to get the full picture, but you shouldn't need to test for a number of clusters above about 30.\n",
    "- Once you've selected a final number of clusters to use, re-fit a KMeans instance to perform the clustering operation. Make sure that you also obtain the cluster assignments for the general demographics data, since you'll be using them in the final Step 3.3."
   ]
  },
  {
   "cell_type": "code",
   "execution_count": null,
   "metadata": {},
   "outputs": [],
   "source": [
    "# Over a number of different cluster counts...\n",
    "\n",
    "\n",
    "    # run k-means clustering on the data and...\n",
    "    \n",
    "    \n",
    "    # compute the average within-cluster distances.\n",
    "    \n",
    "    "
   ]
  },
  {
   "cell_type": "code",
   "execution_count": null,
   "metadata": {},
   "outputs": [],
   "source": [
    "# Investigate the change in within-cluster distance across number of clusters.\n",
    "# HINT: Use matplotlib's plot function to visualize this relationship.\n",
    "\n"
   ]
  },
  {
   "cell_type": "code",
   "execution_count": null,
   "metadata": {},
   "outputs": [],
   "source": [
    "# Re-fit the k-means model with the selected number of clusters and obtain\n",
    "# cluster predictions for the general population demographics data.\n",
    "\n"
   ]
  },
  {
   "cell_type": "markdown",
   "metadata": {},
   "source": [
    "### Discussion 3.1: Apply Clustering to General Population\n",
    "\n",
    "(Double-click this cell and replace this text with your own text, reporting your findings and decisions regarding clustering. Into how many clusters have you decided to segment the population?)"
   ]
  },
  {
   "cell_type": "markdown",
   "metadata": {},
   "source": [
    "### Step 3.2: Apply All Steps to the Customer Data\n",
    "\n",
    "Now that you have clusters and cluster centers for the general population, it's time to see how the customer data maps on to those clusters. Take care to not confuse this for re-fitting all of the models to the customer data. Instead, you're going to use the fits from the general population to clean, transform, and cluster the customer data. In the last step of the project, you will interpret how the general population fits apply to the customer data.\n",
    "\n",
    "- Don't forget when loading in the customers data, that it is semicolon (`;`) delimited.\n",
    "- Apply the same feature wrangling, selection, and engineering steps to the customer demographics using the `clean_data()` function you created earlier. (You can assume that the customer demographics data has similar meaning behind missing data patterns as the general demographics data.)\n",
    "- Use the sklearn objects from the general demographics data, and apply their transformations to the customers data. That is, you should not be using a `.fit()` or `.fit_transform()` method to re-fit the old objects, nor should you be creating new sklearn objects! Carry the data through the feature scaling, PCA, and clustering steps, obtaining cluster assignments for all of the data in the customer demographics data."
   ]
  },
  {
   "cell_type": "code",
   "execution_count": null,
   "metadata": {},
   "outputs": [],
   "source": [
    "# Load in the customer demographics data.\n",
    "customers = pd.read_csv('Udacity_CUSTOMERS_Subset.csv', sep=';')"
   ]
  },
  {
   "cell_type": "code",
   "execution_count": null,
   "metadata": {},
   "outputs": [],
   "source": [
    "# Apply preprocessing, feature transformation, and clustering from the general\n",
    "# demographics onto the customer data, obtaining cluster predictions for the\n",
    "# customer demographics data.\n",
    "clean_customers=clean_data(customers,feat_info)"
   ]
  },
  {
   "cell_type": "markdown",
   "metadata": {},
   "source": [
    "### Step 3.3: Compare Customer Data to Demographics Data\n",
    "\n",
    "At this point, you have clustered data based on demographics of the general population of Germany, and seen how the customer data for a mail-order sales company maps onto those demographic clusters. In this final substep, you will compare the two cluster distributions to see where the strongest customer base for the company is.\n",
    "\n",
    "Consider the proportion of persons in each cluster for the general population, and the proportions for the customers. If we think the company's customer base to be universal, then the cluster assignment proportions should be fairly similar between the two. If there are only particular segments of the population that are interested in the company's products, then we should see a mismatch from one to the other. If there is a higher proportion of persons in a cluster for the customer data compared to the general population (e.g. 5% of persons are assigned to a cluster for the general population, but 15% of the customer data is closest to that cluster's centroid) then that suggests the people in that cluster to be a target audience for the company. On the other hand, the proportion of the data in a cluster being larger in the general population than the customer data (e.g. only 2% of customers closest to a population centroid that captures 6% of the data) suggests that group of persons to be outside of the target demographics.\n",
    "\n",
    "Take a look at the following points in this step:\n",
    "\n",
    "- Compute the proportion of data points in each cluster for the general population and the customer data. Visualizations will be useful here: both for the individual dataset proportions, but also to visualize the ratios in cluster representation between groups. Seaborn's [`countplot()`](https://seaborn.pydata.org/generated/seaborn.countplot.html) or [`barplot()`](https://seaborn.pydata.org/generated/seaborn.barplot.html) function could be handy.\n",
    "  - Recall the analysis you performed in step 1.1.3 of the project, where you separated out certain data points from the dataset if they had more than a specified threshold of missing values. If you found that this group was qualitatively different from the main bulk of the data, you should treat this as an additional data cluster in this analysis. Make sure that you account for the number of data points in this subset, for both the general population and customer datasets, when making your computations!\n",
    "- Which cluster or clusters are overrepresented in the customer dataset compared to the general population? Select at least one such cluster and infer what kind of people might be represented by that cluster. Use the principal component interpretations from step 2.3 or look at additional components to help you make this inference. Alternatively, you can use the `.inverse_transform()` method of the PCA and StandardScaler objects to transform centroids back to the original data space and interpret the retrieved values directly.\n",
    "- Perform a similar investigation for the underrepresented clusters. Which cluster or clusters are underrepresented in the customer dataset compared to the general population, and what kinds of people are typified by these clusters?"
   ]
  },
  {
   "cell_type": "code",
   "execution_count": null,
   "metadata": {},
   "outputs": [],
   "source": [
    "# Compare the proportion of data in each cluster for the customer data to the\n",
    "# proportion of data in each cluster for the general population.\n",
    "\n"
   ]
  },
  {
   "cell_type": "code",
   "execution_count": null,
   "metadata": {},
   "outputs": [],
   "source": [
    "# What kinds of people are part of a cluster that is overrepresented in the\n",
    "# customer data compared to the general population?\n",
    "\n"
   ]
  },
  {
   "cell_type": "code",
   "execution_count": null,
   "metadata": {},
   "outputs": [],
   "source": [
    "# What kinds of people are part of a cluster that is underrepresented in the\n",
    "# customer data compared to the general population?\n",
    "\n"
   ]
  },
  {
   "cell_type": "markdown",
   "metadata": {},
   "source": [
    "### Discussion 3.3: Compare Customer Data to Demographics Data\n",
    "\n",
    "(Double-click this cell and replace this text with your own text, reporting findings and conclusions from the clustering analysis. Can we describe segments of the population that are relatively popular with the mail-order company, or relatively unpopular with the company?)"
   ]
  },
  {
   "cell_type": "markdown",
   "metadata": {},
   "source": [
    "> Congratulations on making it this far in the project! Before you finish, make sure to check through the entire notebook from top to bottom to make sure that your analysis follows a logical flow and all of your findings are documented in **Discussion** cells. Once you've checked over all of your work, you should export the notebook as an HTML document to submit for evaluation. You can do this from the menu, navigating to **File -> Download as -> HTML (.html)**. You will submit both that document and this notebook for your project submission."
   ]
  },
  {
   "cell_type": "code",
   "execution_count": null,
   "metadata": {},
   "outputs": [],
   "source": []
  }
 ],
 "metadata": {
  "kernelspec": {
   "display_name": "Python 3",
   "language": "python",
   "name": "python3"
  },
  "language_info": {
   "codemirror_mode": {
    "name": "ipython",
    "version": 3
   },
   "file_extension": ".py",
   "mimetype": "text/x-python",
   "name": "python",
   "nbconvert_exporter": "python",
   "pygments_lexer": "ipython3",
   "version": "3.8.5"
  }
 },
 "nbformat": 4,
 "nbformat_minor": 2
}